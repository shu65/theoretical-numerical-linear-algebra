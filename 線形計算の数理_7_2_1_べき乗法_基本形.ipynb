{
  "nbformat": 4,
  "nbformat_minor": 0,
  "metadata": {
    "colab": {
      "name": "線形計算の数理 7.2.1 べき乗法 基本形",
      "provenance": [],
      "collapsed_sections": [],
      "authorship_tag": "ABX9TyNV7ZmdBwkvJJotDXvZc5M+",
      "include_colab_link": true
    },
    "kernelspec": {
      "name": "python3",
      "display_name": "Python 3"
    },
    "language_info": {
      "name": "python"
    }
  },
  "cells": [
    {
      "cell_type": "markdown",
      "metadata": {
        "id": "view-in-github",
        "colab_type": "text"
      },
      "source": [
        "<a href=\"https://colab.research.google.com/github/shu65/theoretical-numerical-linear-algebra/blob/main/%E7%B7%9A%E5%BD%A2%E8%A8%88%E7%AE%97%E3%81%AE%E6%95%B0%E7%90%86_7_2_1_%E3%81%B9%E3%81%8D%E4%B9%97%E6%B3%95_%E5%9F%BA%E6%9C%AC%E5%BD%A2.ipynb\" target=\"_parent\"><img src=\"https://colab.research.google.com/assets/colab-badge.svg\" alt=\"Open In Colab\"/></a>"
      ]
    },
    {
      "cell_type": "code",
      "execution_count": 1,
      "metadata": {
        "colab": {
          "base_uri": "https://localhost:8080/"
        },
        "id": "-VJ4UiBrac0p",
        "outputId": "0f15c90a-d6da-49d9-8976-eb77cf6bb5be"
      },
      "outputs": [
        {
          "output_type": "execute_result",
          "data": {
            "text/plain": [
              "array([[1, 0],\n",
              "       [0, 2]])"
            ]
          },
          "metadata": {},
          "execution_count": 1
        }
      ],
      "source": [
        "import numpy as np\n",
        "\n",
        "a_matrix = np.array(\n",
        "    [[1, 0],\n",
        "     [0, 2]]\n",
        "     )\n",
        "a_matrix"
      ]
    },
    {
      "cell_type": "code",
      "source": [
        "expected_eigenvalues, expected_eigenvectors = np.linalg.eig(a_matrix)\n",
        "print(\"expected eigenvalues:\", expected_eigenvalues)\n",
        "print(\"expected eigenvectors:\")\n",
        "print(expected_eigenvectors)"
      ],
      "metadata": {
        "colab": {
          "base_uri": "https://localhost:8080/"
        },
        "id": "JspO59CEdJT6",
        "outputId": "47e06148-1e62-43bf-cf12-506322ee65a1"
      },
      "execution_count": 4,
      "outputs": [
        {
          "output_type": "stream",
          "name": "stdout",
          "text": [
            "expected eigenvalues: [1. 2.]\n",
            "expected eigenvectors:\n",
            "[[1. 0.]\n",
            " [0. 1.]]\n"
          ]
        }
      ]
    },
    {
      "cell_type": "code",
      "source": [
        "def power_method(a, eps=1e-7, max_iterations=100):\n",
        "  x0 = np.ones((a.shape[1],))/np.sqrt(a.shape[1])\n",
        "  x_k = x0\n",
        "  for i in range(max_iterations):\n",
        "    y_k = a @ x_k\n",
        "    x_kp1 = y_k / np.linalg.norm(y_k)\n",
        "    relative_residual_norm = np.linalg.norm(x_kp1 - x_k)\n",
        "    if relative_residual_norm < eps:\n",
        "      break\n",
        "    x_k = x_kp1 \n",
        "  x = x_k\n",
        "  y = a @ x\n",
        "  eigenvalue = None\n",
        "  for x_i, y_i in zip(x, y):\n",
        "    if np.abs(x_i) >= eps:\n",
        "      tmp = y_i / x_i\n",
        "      if (eigenvalue is None) or (np.abs(eigenvalue) < np.abs(tmp)):\n",
        "        eigenvalue = tmp\n",
        "  eigenvector = x\n",
        "  return eigenvalue, eigenvector\n",
        "\n",
        "eigenvalue, eigenvector = power_method(a_matrix)\n",
        "print(\"eigenvalues:\", eigenvalue)\n",
        "print(\"eigenvectors:\")\n",
        "print(eigenvector)"
      ],
      "metadata": {
        "colab": {
          "base_uri": "https://localhost:8080/"
        },
        "id": "PYpUiq0wc6XB",
        "outputId": "9555fa09-e517-4bf4-cd7a-e364a4c85606"
      },
      "execution_count": 6,
      "outputs": [
        {
          "output_type": "stream",
          "name": "stdout",
          "text": [
            "eigenvalues: 2.0\n",
            "eigenvectors:\n",
            "[1.1920929e-07 1.0000000e+00]\n"
          ]
        }
      ]
    }
  ]
}