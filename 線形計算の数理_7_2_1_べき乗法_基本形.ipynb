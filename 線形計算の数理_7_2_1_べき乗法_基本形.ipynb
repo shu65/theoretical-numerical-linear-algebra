{
  "nbformat": 4,
  "nbformat_minor": 0,
  "metadata": {
    "colab": {
      "name": "線形計算の数理 7.2.1 べき乗法 基本形",
      "provenance": [],
      "collapsed_sections": [],
      "authorship_tag": "ABX9TyMBN4hxDBYIOHfOh5jS1CCN",
      "include_colab_link": true
    },
    "kernelspec": {
      "name": "python3",
      "display_name": "Python 3"
    },
    "language_info": {
      "name": "python"
    }
  },
  "cells": [
    {
      "cell_type": "markdown",
      "metadata": {
        "id": "view-in-github",
        "colab_type": "text"
      },
      "source": [
        "<a href=\"https://colab.research.google.com/github/shu65/theoretical-numerical-linear-algebra/blob/main/%E7%B7%9A%E5%BD%A2%E8%A8%88%E7%AE%97%E3%81%AE%E6%95%B0%E7%90%86_7_2_1_%E3%81%B9%E3%81%8D%E4%B9%97%E6%B3%95_%E5%9F%BA%E6%9C%AC%E5%BD%A2.ipynb\" target=\"_parent\"><img src=\"https://colab.research.google.com/assets/colab-badge.svg\" alt=\"Open In Colab\"/></a>"
      ]
    },
    {
      "cell_type": "code",
      "execution_count": null,
      "metadata": {
        "colab": {
          "base_uri": "https://localhost:8080/"
        },
        "id": "-VJ4UiBrac0p",
        "outputId": "650607d6-32b8-4d8e-ee17-d828f0bf9a52"
      },
      "outputs": [
        {
          "output_type": "execute_result",
          "data": {
            "text/plain": [
              "array([[1, 0],\n",
              "       [0, 2]])"
            ]
          },
          "metadata": {},
          "execution_count": 2
        }
      ],
      "source": [
        "import numpy as np\n",
        "\n",
        "a_matrix = np.array(\n",
        "    [[1, 0],\n",
        "     [0, 2]]\n",
        "     )\n",
        "a_matrix"
      ]
    },
    {
      "cell_type": "code",
      "source": [
        "np.linalg.eig(a_matrix)"
      ],
      "metadata": {
        "colab": {
          "base_uri": "https://localhost:8080/"
        },
        "id": "JspO59CEdJT6",
        "outputId": "6c3f33e1-e31e-4b81-ea14-c29294e84747"
      },
      "execution_count": null,
      "outputs": [
        {
          "output_type": "execute_result",
          "data": {
            "text/plain": [
              "(array([1., 2.]), array([[1., 0.],\n",
              "        [0., 1.]]))"
            ]
          },
          "metadata": {},
          "execution_count": 3
        }
      ]
    },
    {
      "cell_type": "code",
      "source": [
        "def power_method(a, max_iterations=100):\n",
        "  eigen_vector = np.ones((a.shape[1],))/np.sqrt(a.shape[1]) \n",
        "  for i in range(max_iterations):\n",
        "    y = a @ eigen_vector\n",
        "    eigen_value = np.linalg.norm(y)\n",
        "    eigen_vector = y/eigen_value\n",
        "    print(f\"iter:{i} eigen_value:{eigen_value} eigen_vector:{eigen_vector}\")\n",
        "  return eigen_value, eigen_vector\n",
        "\n",
        "power_method(a_matrix)"
      ],
      "metadata": {
        "colab": {
          "base_uri": "https://localhost:8080/"
        },
        "id": "PYpUiq0wc6XB",
        "outputId": "4da27dd3-58c7-4095-f98f-fe3b302e527e"
      },
      "execution_count": null,
      "outputs": [
        {
          "output_type": "stream",
          "name": "stdout",
          "text": [
            "iter:0 eigen_value:1.5811388300841895 eigen_vector:[0.4472136  0.89442719]\n",
            "iter:1 eigen_value:1.8439088914585775 eigen_vector:[0.24253563 0.9701425 ]\n",
            "iter:2 eigen_value:1.955384722187607 eigen_vector:[0.12403473 0.99227788]\n",
            "iter:3 eigen_value:1.9884280610185912 eigen_vector:[0.06237829 0.99805258]\n",
            "iter:4 eigen_value:1.9970795798487921 eigen_vector:[0.03123475 0.99951208]\n",
            "iter:5 eigen_value:1.9992681587850358 eigen_vector:[0.01562309 0.99987795]\n",
            "iter:6 eigen_value:1.9998169308452434 eigen_vector:[0.00781226 0.99996948]\n",
            "iter:7 eigen_value:1.999954225902793 eigen_vector:[0.00390622 0.99999237]\n",
            "iter:8 eigen_value:1.9999885560500825 eigen_vector:[0.00195312 0.99999809]\n",
            "iter:9 eigen_value:1.9999971389859181 eigen_vector:[9.76562034e-04 9.99999523e-01]\n",
            "iter:10 eigen_value:1.999999284744817 eigen_vector:[4.88281192e-04 9.99999881e-01]\n",
            "iter:11 eigen_value:1.9999998211861003 eigen_vector:[2.44140618e-04 9.99999970e-01]\n",
            "iter:12 eigen_value:1.9999999552965186 eigen_vector:[1.22070312e-04 9.99999993e-01]\n",
            "iter:13 eigen_value:1.9999999888241293 eigen_vector:[6.10351561e-05 9.99999998e-01]\n",
            "iter:14 eigen_value:1.9999999972060323 eigen_vector:[3.05175781e-05 1.00000000e+00]\n",
            "iter:15 eigen_value:1.999999999301508 eigen_vector:[1.52587891e-05 1.00000000e+00]\n",
            "iter:16 eigen_value:1.999999999825377 eigen_vector:[7.62939453e-06 1.00000000e+00]\n",
            "iter:17 eigen_value:1.9999999999563443 eigen_vector:[3.81469727e-06 1.00000000e+00]\n",
            "iter:18 eigen_value:1.999999999989086 eigen_vector:[1.90734863e-06 1.00000000e+00]\n",
            "iter:19 eigen_value:1.9999999999972715 eigen_vector:[9.53674316e-07 1.00000000e+00]\n",
            "iter:20 eigen_value:1.9999999999993179 eigen_vector:[4.76837158e-07 1.00000000e+00]\n",
            "iter:21 eigen_value:1.9999999999998295 eigen_vector:[2.38418579e-07 1.00000000e+00]\n",
            "iter:22 eigen_value:1.9999999999999574 eigen_vector:[1.1920929e-07 1.0000000e+00]\n",
            "iter:23 eigen_value:1.9999999999999893 eigen_vector:[5.96046448e-08 1.00000000e+00]\n",
            "iter:24 eigen_value:1.9999999999999973 eigen_vector:[2.98023224e-08 1.00000000e+00]\n",
            "iter:25 eigen_value:1.9999999999999993 eigen_vector:[1.49011612e-08 1.00000000e+00]\n",
            "iter:26 eigen_value:1.9999999999999998 eigen_vector:[7.4505806e-09 1.0000000e+00]\n",
            "iter:27 eigen_value:2.0 eigen_vector:[3.7252903e-09 1.0000000e+00]\n",
            "iter:28 eigen_value:2.0 eigen_vector:[1.86264515e-09 1.00000000e+00]\n",
            "iter:29 eigen_value:2.0 eigen_vector:[9.31322575e-10 1.00000000e+00]\n",
            "iter:30 eigen_value:2.0 eigen_vector:[4.65661287e-10 1.00000000e+00]\n",
            "iter:31 eigen_value:2.0 eigen_vector:[2.32830644e-10 1.00000000e+00]\n",
            "iter:32 eigen_value:2.0 eigen_vector:[1.16415322e-10 1.00000000e+00]\n",
            "iter:33 eigen_value:2.0 eigen_vector:[5.82076609e-11 1.00000000e+00]\n",
            "iter:34 eigen_value:2.0 eigen_vector:[2.91038305e-11 1.00000000e+00]\n",
            "iter:35 eigen_value:2.0 eigen_vector:[1.45519152e-11 1.00000000e+00]\n",
            "iter:36 eigen_value:2.0 eigen_vector:[7.27595761e-12 1.00000000e+00]\n",
            "iter:37 eigen_value:2.0 eigen_vector:[3.63797881e-12 1.00000000e+00]\n",
            "iter:38 eigen_value:2.0 eigen_vector:[1.8189894e-12 1.0000000e+00]\n",
            "iter:39 eigen_value:2.0 eigen_vector:[9.09494702e-13 1.00000000e+00]\n",
            "iter:40 eigen_value:2.0 eigen_vector:[4.54747351e-13 1.00000000e+00]\n",
            "iter:41 eigen_value:2.0 eigen_vector:[2.27373675e-13 1.00000000e+00]\n",
            "iter:42 eigen_value:2.0 eigen_vector:[1.13686838e-13 1.00000000e+00]\n",
            "iter:43 eigen_value:2.0 eigen_vector:[5.68434189e-14 1.00000000e+00]\n",
            "iter:44 eigen_value:2.0 eigen_vector:[2.84217094e-14 1.00000000e+00]\n",
            "iter:45 eigen_value:2.0 eigen_vector:[1.42108547e-14 1.00000000e+00]\n",
            "iter:46 eigen_value:2.0 eigen_vector:[7.10542736e-15 1.00000000e+00]\n",
            "iter:47 eigen_value:2.0 eigen_vector:[3.55271368e-15 1.00000000e+00]\n",
            "iter:48 eigen_value:2.0 eigen_vector:[1.77635684e-15 1.00000000e+00]\n",
            "iter:49 eigen_value:2.0 eigen_vector:[8.8817842e-16 1.0000000e+00]\n",
            "iter:50 eigen_value:2.0 eigen_vector:[4.4408921e-16 1.0000000e+00]\n",
            "iter:51 eigen_value:2.0 eigen_vector:[2.22044605e-16 1.00000000e+00]\n",
            "iter:52 eigen_value:2.0 eigen_vector:[1.11022302e-16 1.00000000e+00]\n",
            "iter:53 eigen_value:2.0 eigen_vector:[5.55111512e-17 1.00000000e+00]\n",
            "iter:54 eigen_value:2.0 eigen_vector:[2.77555756e-17 1.00000000e+00]\n",
            "iter:55 eigen_value:2.0 eigen_vector:[1.38777878e-17 1.00000000e+00]\n",
            "iter:56 eigen_value:2.0 eigen_vector:[6.9388939e-18 1.0000000e+00]\n",
            "iter:57 eigen_value:2.0 eigen_vector:[3.46944695e-18 1.00000000e+00]\n",
            "iter:58 eigen_value:2.0 eigen_vector:[1.73472348e-18 1.00000000e+00]\n",
            "iter:59 eigen_value:2.0 eigen_vector:[8.67361738e-19 1.00000000e+00]\n",
            "iter:60 eigen_value:2.0 eigen_vector:[4.33680869e-19 1.00000000e+00]\n",
            "iter:61 eigen_value:2.0 eigen_vector:[2.16840434e-19 1.00000000e+00]\n",
            "iter:62 eigen_value:2.0 eigen_vector:[1.08420217e-19 1.00000000e+00]\n",
            "iter:63 eigen_value:2.0 eigen_vector:[5.42101086e-20 1.00000000e+00]\n",
            "iter:64 eigen_value:2.0 eigen_vector:[2.71050543e-20 1.00000000e+00]\n",
            "iter:65 eigen_value:2.0 eigen_vector:[1.35525272e-20 1.00000000e+00]\n",
            "iter:66 eigen_value:2.0 eigen_vector:[6.77626358e-21 1.00000000e+00]\n",
            "iter:67 eigen_value:2.0 eigen_vector:[3.38813179e-21 1.00000000e+00]\n",
            "iter:68 eigen_value:2.0 eigen_vector:[1.69406589e-21 1.00000000e+00]\n",
            "iter:69 eigen_value:2.0 eigen_vector:[8.47032947e-22 1.00000000e+00]\n",
            "iter:70 eigen_value:2.0 eigen_vector:[4.23516474e-22 1.00000000e+00]\n",
            "iter:71 eigen_value:2.0 eigen_vector:[2.11758237e-22 1.00000000e+00]\n",
            "iter:72 eigen_value:2.0 eigen_vector:[1.05879118e-22 1.00000000e+00]\n",
            "iter:73 eigen_value:2.0 eigen_vector:[5.29395592e-23 1.00000000e+00]\n",
            "iter:74 eigen_value:2.0 eigen_vector:[2.64697796e-23 1.00000000e+00]\n",
            "iter:75 eigen_value:2.0 eigen_vector:[1.32348898e-23 1.00000000e+00]\n",
            "iter:76 eigen_value:2.0 eigen_vector:[6.6174449e-24 1.0000000e+00]\n",
            "iter:77 eigen_value:2.0 eigen_vector:[3.30872245e-24 1.00000000e+00]\n",
            "iter:78 eigen_value:2.0 eigen_vector:[1.65436123e-24 1.00000000e+00]\n",
            "iter:79 eigen_value:2.0 eigen_vector:[8.27180613e-25 1.00000000e+00]\n",
            "iter:80 eigen_value:2.0 eigen_vector:[4.13590306e-25 1.00000000e+00]\n",
            "iter:81 eigen_value:2.0 eigen_vector:[2.06795153e-25 1.00000000e+00]\n",
            "iter:82 eigen_value:2.0 eigen_vector:[1.03397577e-25 1.00000000e+00]\n",
            "iter:83 eigen_value:2.0 eigen_vector:[5.16987883e-26 1.00000000e+00]\n",
            "iter:84 eigen_value:2.0 eigen_vector:[2.58493941e-26 1.00000000e+00]\n",
            "iter:85 eigen_value:2.0 eigen_vector:[1.29246971e-26 1.00000000e+00]\n",
            "iter:86 eigen_value:2.0 eigen_vector:[6.46234854e-27 1.00000000e+00]\n",
            "iter:87 eigen_value:2.0 eigen_vector:[3.23117427e-27 1.00000000e+00]\n",
            "iter:88 eigen_value:2.0 eigen_vector:[1.61558713e-27 1.00000000e+00]\n",
            "iter:89 eigen_value:2.0 eigen_vector:[8.07793567e-28 1.00000000e+00]\n",
            "iter:90 eigen_value:2.0 eigen_vector:[4.03896783e-28 1.00000000e+00]\n",
            "iter:91 eigen_value:2.0 eigen_vector:[2.01948392e-28 1.00000000e+00]\n",
            "iter:92 eigen_value:2.0 eigen_vector:[1.00974196e-28 1.00000000e+00]\n",
            "iter:93 eigen_value:2.0 eigen_vector:[5.04870979e-29 1.00000000e+00]\n",
            "iter:94 eigen_value:2.0 eigen_vector:[2.5243549e-29 1.0000000e+00]\n",
            "iter:95 eigen_value:2.0 eigen_vector:[1.26217745e-29 1.00000000e+00]\n",
            "iter:96 eigen_value:2.0 eigen_vector:[6.31088724e-30 1.00000000e+00]\n",
            "iter:97 eigen_value:2.0 eigen_vector:[3.15544362e-30 1.00000000e+00]\n",
            "iter:98 eigen_value:2.0 eigen_vector:[1.57772181e-30 1.00000000e+00]\n",
            "iter:99 eigen_value:2.0 eigen_vector:[7.88860905e-31 1.00000000e+00]\n"
          ]
        },
        {
          "output_type": "execute_result",
          "data": {
            "text/plain": [
              "(2.0, array([7.88860905e-31, 1.00000000e+00]))"
            ]
          },
          "metadata": {},
          "execution_count": 4
        }
      ]
    }
  ]
}