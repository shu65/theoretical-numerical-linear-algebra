{
  "nbformat": 4,
  "nbformat_minor": 0,
  "metadata": {
    "colab": {
      "name": "線形計算の数理 7.7.1 Arnoldi法",
      "provenance": [],
      "collapsed_sections": [],
      "authorship_tag": "ABX9TyNPbkSSyCV19turCgsiU0yA",
      "include_colab_link": true
    },
    "kernelspec": {
      "name": "python3",
      "display_name": "Python 3"
    },
    "language_info": {
      "name": "python"
    }
  },
  "cells": [
    {
      "cell_type": "markdown",
      "metadata": {
        "id": "view-in-github",
        "colab_type": "text"
      },
      "source": [
        "<a href=\"https://colab.research.google.com/github/shu65/theoretical-numerical-linear-algebra/blob/main/%E7%B7%9A%E5%BD%A2%E8%A8%88%E7%AE%97%E3%81%AE%E6%95%B0%E7%90%86_7_7_1_Arnoldi%E6%B3%95.ipynb\" target=\"_parent\"><img src=\"https://colab.research.google.com/assets/colab-badge.svg\" alt=\"Open In Colab\"/></a>"
      ]
    },
    {
      "cell_type": "code",
      "execution_count": 3,
      "metadata": {
        "colab": {
          "base_uri": "https://localhost:8080/"
        },
        "id": "7bme5gYyb0mf",
        "outputId": "551ceec2-05aa-49ab-d9fa-0f718b08bce4"
      },
      "outputs": [
        {
          "output_type": "execute_result",
          "data": {
            "text/plain": [
              "array([[4.17022005e-01, 7.20324493e-01, 1.14374817e-04, 3.02332573e-01,\n",
              "        1.46755891e-01, 9.23385948e-02, 1.86260211e-01, 3.45560727e-01],\n",
              "       [3.96767474e-01, 5.38816734e-01, 4.19194514e-01, 6.85219500e-01,\n",
              "        2.04452250e-01, 8.78117436e-01, 2.73875932e-02, 6.70467510e-01],\n",
              "       [4.17304802e-01, 5.58689828e-01, 1.40386939e-01, 1.98101489e-01,\n",
              "        8.00744569e-01, 9.68261576e-01, 3.13424178e-01, 6.92322616e-01],\n",
              "       [8.76389152e-01, 8.94606664e-01, 8.50442114e-02, 3.90547832e-02,\n",
              "        1.69830420e-01, 8.78142503e-01, 9.83468338e-02, 4.21107625e-01],\n",
              "       [9.57889530e-01, 5.33165285e-01, 6.91877114e-01, 3.15515631e-01,\n",
              "        6.86500928e-01, 8.34625672e-01, 1.82882773e-02, 7.50144315e-01],\n",
              "       [9.88861089e-01, 7.48165654e-01, 2.80443992e-01, 7.89279328e-01,\n",
              "        1.03226007e-01, 4.47893526e-01, 9.08595503e-01, 2.93614148e-01],\n",
              "       [2.87775339e-01, 1.30028572e-01, 1.93669579e-02, 6.78835533e-01,\n",
              "        2.11628116e-01, 2.65546659e-01, 4.91573159e-01, 5.33625451e-02],\n",
              "       [5.74117605e-01, 1.46728575e-01, 5.89305537e-01, 6.99758360e-01,\n",
              "        1.02334429e-01, 4.14055988e-01, 6.94400158e-01, 4.14179270e-01]])"
            ]
          },
          "metadata": {},
          "execution_count": 3
        }
      ],
      "source": [
        "import numpy as np\n",
        "\n",
        "np.random.seed(1)\n",
        "a_matrix = np.random.rand(8, 8)\n",
        "a_matrix"
      ]
    },
    {
      "cell_type": "code",
      "source": [
        "expected_eigenvalues, expected_eigenvectors = np.linalg.eig(a_matrix)\n",
        "orders = np.argsort(-np.abs(expected_eigenvalues))\n",
        "expected_max_eigenvalue = expected_eigenvalues[orders[0]]\n",
        "for i, order in enumerate(orders):\n",
        "  print(\"i:\", i)\n",
        "  print(\"expected eigenvalue:\", expected_eigenvalues[order])\n",
        "  print(\"expected eigenvector:\")\n",
        "  print(expected_eigenvectors[:, order])"
      ],
      "metadata": {
        "colab": {
          "base_uri": "https://localhost:8080/"
        },
        "id": "_0da2Z7DcGVD",
        "outputId": "9c395a96-de03-42c8-9d18-63adb7c2fb7a"
      },
      "execution_count": 22,
      "outputs": [
        {
          "output_type": "stream",
          "name": "stdout",
          "text": [
            "i: 0\n",
            "expected eigenvalue: (3.4990240608479932+0j)\n",
            "expected eigenvector:\n",
            "[0.20461122+0.j 0.38615184+0.j 0.42029455+0.j 0.32870449+0.j\n",
            " 0.48522838+0.j 0.38779425+0.j 0.18726684+0.j 0.32160071+0.j]\n",
            "i: 1\n",
            "expected eigenvalue: (-0.7342112073003019+0j)\n",
            "expected eigenvector:\n",
            "[-0.12461635+0.j  0.06389419+0.j -0.68137611+0.j -0.44228772+0.j\n",
            "  0.09504254+0.j  0.25478947+0.j  0.18654405+0.j  0.4601598 +0.j]\n",
            "i: 2\n",
            "expected eigenvalue: (0.7122756776855365+0j)\n",
            "expected eigenvector:\n",
            "[ 0.01223493+0.j  0.03384852+0.j -0.47783921+0.j  0.18157725+0.j\n",
            " -0.79539447+0.j  0.29274766+0.j  0.13434495+0.j -0.03165226+0.j]\n",
            "i: 3\n",
            "expected eigenvalue: (0.19767751156027363+0.47981972546231816j)\n",
            "expected eigenvector:\n",
            "[-0.24419527+0.30805167j -0.27660726-0.17953194j  0.01043494-0.24853952j\n",
            " -0.11755664+0.1833224j  -0.19796557+0.24863176j  0.31401936+0.02837889j\n",
            "  0.46254789+0.j          0.1575493 -0.43385266j]\n",
            "i: 4\n",
            "expected eigenvalue: (0.19767751156027363-0.47981972546231816j)\n",
            "expected eigenvector:\n",
            "[-0.24419527-0.30805167j -0.27660726+0.17953194j  0.01043494+0.24853952j\n",
            " -0.11755664-0.1833224j  -0.19796557-0.24863176j  0.31401936-0.02837889j\n",
            "  0.46254789-0.j          0.1575493 +0.43385266j]\n",
            "i: 5\n",
            "expected eigenvalue: (-0.3719087352874285+0.3559239586248785j)\n",
            "expected eigenvector:\n",
            "[-0.26421227-0.31778098j  0.48875309+0.j          0.23773071-0.16069509j\n",
            " -0.19182417+0.3807113j   0.11098963+0.25846897j -0.36085782+0.00229j\n",
            "  0.30132041-0.13474034j -0.03366572+0.08258498j]\n",
            "i: 6\n",
            "expected eigenvalue: (-0.3719087352874285-0.3559239586248785j)\n",
            "expected eigenvector:\n",
            "[-0.26421227+0.31778098j  0.48875309-0.j          0.23773071+0.16069509j\n",
            " -0.19182417-0.3807113j   0.11098963-0.25846897j -0.36085782-0.00229j\n",
            "  0.30132041+0.13474034j -0.03366572-0.08258498j]\n",
            "i: 7\n",
            "expected eigenvalue: (0.046801259419861206+0j)\n",
            "expected eigenvector:\n",
            "[ 0.35634753+0.j -0.42506575+0.j -0.50223543+0.j  0.02769605+0.j\n",
            " -0.20703231+0.j -0.12621891+0.j -0.02677271+0.j  0.6162935 +0.j]\n"
          ]
        }
      ]
    },
    {
      "cell_type": "code",
      "source": [
        "def arnoldi_iteration(a, x0, m):\n",
        "  if m > a.shape[0]:\n",
        "    raise ValueError\n",
        "  n = a.shape[0]\n",
        "  h = np.zeros((m, m))\n",
        "  v = np.zeros((n, m))\n",
        "\n",
        "  v0 = x0 / np.linalg.norm(x0)\n",
        "  v[:, 0] = v0\n",
        "\n",
        "  k = 0\n",
        "  for k in range(m):\n",
        "    k = k\n",
        "    w = a @ v[:, k]\n",
        "    for j in range(k+1):\n",
        "        v_j = v[:, j]\n",
        "        h[j,k] = v_j.T @ w\n",
        "        w = w - h[j,k]*v_j\n",
        "\n",
        "    if k+1 < m:\n",
        "        h[k+1, k] = np.linalg.norm(w)\n",
        "        v[:, k+1] = w/h[k+1, k]\n",
        "  return v, h\n",
        "\n",
        "\n",
        "x0 = np.ones(a_matrix.shape[0])\n",
        "v, h = arnoldi_iteration(a_matrix, x0, 4)\n",
        "\n",
        "np.testing.assert_allclose(v.T @ a_matrix @ v, h, rtol=1e-07, atol=1e-07)\n",
        "h"
      ],
      "metadata": {
        "colab": {
          "base_uri": "https://localhost:8080/"
        },
        "id": "CPNNcd-pcJP4",
        "outputId": "2166a668-da43-4a2a-d9da-b838bb22c856"
      },
      "execution_count": 5,
      "outputs": [
        {
          "output_type": "execute_result",
          "data": {
            "text/plain": [
              "array([[ 3.58799661, -0.18720508, -0.51641195,  0.09771996],\n",
              "       [ 0.91564503,  0.19001179, -0.19663412,  0.26556715],\n",
              "       [ 0.        ,  1.02788666, -0.33965947,  0.39069655],\n",
              "       [ 0.        ,  0.        ,  0.36023935,  0.07761123]])"
            ]
          },
          "metadata": {},
          "execution_count": 5
        }
      ]
    },
    {
      "cell_type": "code",
      "source": [
        "def arnoldi_method(a, x0, m):\n",
        "  v, h = arnoldi_iteration(a=a, x0=x0, m=m)\n",
        "  \n",
        "  ritz_values, ritz_vectors = np.linalg.eig(h)\n",
        "  eigenvectors = v @ ritz_vectors\n",
        "  return ritz_values, eigenvectors\n",
        "\n",
        "\n",
        "n = a_matrix.shape[0]\n",
        "x0 = np.ones(n)\n",
        "max_abs_eigenvalue_norm_r = []\n",
        "for m in range(1, n):\n",
        "  eigenvalues, eigenvectors = arnoldi_method(a_matrix, x0, m)\n",
        "  orders = np.argsort(-np.abs(eigenvalues))\n",
        "  print(\"m\", m)\n",
        "  for i, order in enumerate(orders):\n",
        "    print(\"i:\", i)\n",
        "    print(\"eigenvalue:\", eigenvalues[order])\n",
        "    print(\"eigenvector:\")\n",
        "    print(eigenvectors[:, order])\n",
        "    r = a_matrix @ eigenvectors[:, order] - eigenvalues[order] * eigenvectors[:, order]\n",
        "    norm_r = np.linalg.norm(r)\n",
        "    print(\"||r||:\", norm_r)\n",
        "    if i == 0:\n",
        "      max_abs_eigenvalue_norm_r.append(norm_r)"
      ],
      "metadata": {
        "colab": {
          "base_uri": "https://localhost:8080/"
        },
        "id": "Zxk9yw6P5TpH",
        "outputId": "dc41f8c7-d7c0-44ac-f688-6520edbbfb5b"
      },
      "execution_count": 13,
      "outputs": [
        {
          "output_type": "stream",
          "name": "stdout",
          "text": [
            "m 1\n",
            "i: 0\n",
            "eigenvalue: 3.587996609195481\n",
            "eigenvector:\n",
            "[0.35355339 0.35355339 0.35355339 0.35355339 0.35355339 0.35355339\n",
            " 0.35355339 0.35355339]\n",
            "||r||: 0.915645030381127\n",
            "m 2\n",
            "i: 0\n",
            "eigenvalue: 3.5367790030961253\n",
            "eigenvector:\n",
            "[0.20068117 0.36470386 0.39209471 0.32823537 0.46329633 0.44007153\n",
            " 0.19328437 0.34579785]\n",
            "||r||: 0.2712517417287943\n",
            "i: 1\n",
            "eigenvalue: 0.2412293912115118\n",
            "eigenvector:\n",
            "[-0.51122961  0.10935109  0.21298449 -0.02862766  0.4823762   0.39450506\n",
            " -0.53921544  0.03782009]\n",
            "||r||: 1.0262823718532643\n",
            "m 3\n",
            "i: 0\n",
            "eigenvalue: 3.49935330371708\n",
            "eigenvector:\n",
            "[0.20089168 0.38808985 0.42152325 0.33202793 0.48017663 0.3884742\n",
            " 0.1884522  0.32265829]\n",
            "||r||: 0.02528352404705274\n",
            "i: 1\n",
            "eigenvalue: -0.15459166993216905\n",
            "eigenvector:\n",
            "[-0.0425295   0.40328728  0.50788455  0.10375742  0.38764815 -0.58027245\n",
            " -0.1181124  -0.25671104]\n",
            "||r||: 0.35088613454759704\n",
            "i: 2\n",
            "eigenvalue: 0.0935872889728065\n",
            "eigenvector:\n",
            "[-0.14911496  0.40416407  0.52473542  0.09384656  0.47166597 -0.45230333\n",
            " -0.2259161  -0.22842182]\n",
            "||r||: 0.3279405810300878\n",
            "m 4\n",
            "i: 0\n",
            "eigenvalue: (3.4995258474334907+0j)\n",
            "eigenvector:\n",
            "[0.2046176 +0.j 0.38710413+0.j 0.42003848+0.j 0.32821558+0.j\n",
            " 0.48492918+0.j 0.38776328+0.j 0.18715778+0.j 0.32183775+0.j]\n",
            "||r||: 0.004572773990371693\n",
            "i: 1\n",
            "eigenvalue: (0.5240772059861146+0j)\n",
            "eigenvector:\n",
            "[ 0.15385578+0.j  0.22849964+0.j  0.28306115+0.j -0.21875375+0.j\n",
            "  0.74462913+0.j -0.33660088+0.j -0.28866888+0.j -0.21221943+0.j]\n",
            "||r||: 0.3516583065861748\n",
            "i: 2\n",
            "eigenvalue: (-0.2538214514857454+0.20560395776705526j)\n",
            "eigenvector:\n",
            "[-0.38488971-0.30796284j  0.38776981+0.08842802j  0.51926345+0.1431409j\n",
            "  0.33901096+0.16310486j  0.02739274-0.06258393j -0.33408259+0.11538338j\n",
            " -0.08994841-0.09731481j -0.13710984+0.03502543j]\n",
            "||r||: 0.382507479006485\n",
            "i: 3\n",
            "eigenvalue: (-0.2538214514857454-0.20560395776705526j)\n",
            "eigenvector:\n",
            "[-0.38488971+0.30796284j  0.38776981-0.08842802j  0.51926345-0.1431409j\n",
            "  0.33901096-0.16310486j  0.02739274+0.06258393j -0.33408259-0.11538338j\n",
            " -0.08994841+0.09731481j -0.13710984-0.03502543j]\n",
            "||r||: 0.382507479006485\n",
            "m 5\n",
            "i: 0\n",
            "eigenvalue: (3.4992155464088666+0j)\n",
            "eigenvector:\n",
            "[0.20472449+0.j 0.38622653+0.j 0.42024509+0.j 0.32879849+0.j\n",
            " 0.48516306+0.j 0.38784603+0.j 0.1871408 +0.j 0.32151694+0.j]\n",
            "||r||: 0.0007573476021598214\n",
            "i: 1\n",
            "eigenvalue: (-0.7386552805367521+0j)\n",
            "eigenvector:\n",
            "[-0.10865014+0.j -0.25509917+0.j  0.54253317+0.j  0.6219561 +0.j\n",
            "  0.2115576 +0.j -0.29086017+0.j -0.02308063+0.j -0.33475208+0.j]\n",
            "||r||: 0.4940791211424686\n",
            "i: 2\n",
            "eigenvalue: (0.5356236768925716+0j)\n",
            "eigenvector:\n",
            "[ 0.15613052+0.j -0.02650996+0.j  0.33712152+0.j -0.0340007 +0.j\n",
            "  0.79762291+0.j -0.24826043+0.j -0.29573199+0.j -0.27353347+0.j]\n",
            "||r||: 0.2154046577652573\n",
            "i: 3\n",
            "eigenvalue: (-0.1326790360081798+0.3356285969447712j)\n",
            "eigenvector:\n",
            "[-0.21126433-0.36961571j  0.68922597+0.18324454j  0.24365546+0.13678077j\n",
            " -0.10707011+0.11998455j -0.05592407-0.0916333j  -0.39695488+0.12929383j\n",
            " -0.02999325-0.12015245j  0.00732238+0.07070571j]\n",
            "||r||: 0.3747753511796106\n",
            "i: 4\n",
            "eigenvalue: (-0.1326790360081798-0.3356285969447712j)\n",
            "eigenvector:\n",
            "[-0.21126433+0.36961571j  0.68922597-0.18324454j  0.24365546-0.13678077j\n",
            " -0.10707011-0.11998455j -0.05592407+0.0916333j  -0.39695488-0.12929383j\n",
            " -0.02999325+0.12015245j  0.00732238-0.07070571j]\n",
            "||r||: 0.3747753511796106\n",
            "m 6\n",
            "i: 0\n",
            "eigenvalue: (3.499027621620759+0j)\n",
            "eigenvector:\n",
            "[0.20460561+0.j 0.38615831+0.j 0.42027516+0.j 0.32871561+0.j\n",
            " 0.48523485+0.j 0.38779589+0.j 0.18727778+0.j 0.32159239+0.j]\n",
            "||r||: 0.00010386090393126088\n",
            "i: 1\n",
            "eigenvalue: (-0.6648498880261978+0j)\n",
            "eigenvector:\n",
            "[ 0.05816067+0.j -0.11670647+0.j  0.42430591+0.j  0.67395792+0.j\n",
            "  0.05790486+0.j -0.19666916+0.j -0.30935012+0.j -0.45936143+0.j]\n",
            "||r||: 0.18127176748259738\n",
            "i: 2\n",
            "eigenvalue: (0.6151480029374357+0j)\n",
            "eigenvector:\n",
            "[ 0.12317824+0.j  0.04377363+0.j -0.39757249+0.j  0.18127199+0.j\n",
            " -0.84834048+0.j  0.25953707+0.j -0.07030562+0.j -0.00190589+0.j]\n",
            "||r||: 0.2190967576398136\n",
            "i: 3\n",
            "eigenvalue: (-0.05179755510129651+0.3250819719161248j)\n",
            "eigenvector:\n",
            "[ 0.57123739-0.00661497j -0.2872899 +0.35883764j -0.21600774+0.0882734j\n",
            "  0.20904669-0.13726395j -0.06261272+0.02263672j  0.11579361-0.27174351j\n",
            " -0.35778089-0.00239446j -0.35405295-0.01728707j]\n",
            "||r||: 0.27424438590800904\n",
            "i: 4\n",
            "eigenvalue: (-0.05179755510129651-0.3250819719161248j)\n",
            "eigenvector:\n",
            "[ 0.57123739+0.00661497j -0.2872899 -0.35883764j -0.21600774-0.0882734j\n",
            "  0.20904669+0.13726395j -0.06261272-0.02263672j  0.11579361+0.27174351j\n",
            " -0.35778089+0.00239446j -0.35405295+0.01728707j]\n",
            "||r||: 0.27424438590800904\n",
            "i: 5\n",
            "eigenvalue: (0.07465189765737792+0j)\n",
            "eigenvector:\n",
            "[-0.49320748+0.j  0.12057905+0.j  0.11482756+0.j -0.34176258+0.j\n",
            "  0.08614071+0.j -0.12945282+0.j  0.609397  +0.j  0.46548586+0.j]\n",
            "||r||: 0.37517565519043095\n",
            "m 7\n",
            "i: 0\n",
            "eigenvalue: (3.499023949039419+0j)\n",
            "eigenvector:\n",
            "[0.20461088+0.j 0.38615212+0.j 0.42029533+0.j 0.32870361+0.j\n",
            " 0.48522799+0.j 0.38779585+0.j 0.18726814+0.j 0.32159839+0.j]\n",
            "||r||: 1.1725926175296997e-05\n",
            "i: 1\n",
            "eigenvalue: (-0.7574895461604456+0j)\n",
            "eigenvector:\n",
            "[ 0.14270739+0.j -0.15779215+0.j  0.62704282+0.j  0.5359821 +0.j\n",
            " -0.10921125+0.j -0.26667154+0.j -0.26469118+0.j -0.34810129+0.j]\n",
            "||r||: 0.12585805524780552\n",
            "i: 2\n",
            "eigenvalue: (0.7022766173970748+0j)\n",
            "eigenvector:\n",
            "[-0.04679069+0.j -0.02192795+0.j  0.5193699 +0.j -0.20622324+0.j\n",
            "  0.78477683+0.j -0.24410689+0.j -0.09595537+0.j -0.01965696+0.j]\n",
            "||r||: 0.0697690792523505\n",
            "i: 3\n",
            "eigenvalue: (-0.30013339862434085+0.3572560593271267j)\n",
            "eigenvector:\n",
            "[-0.38267492-0.2363464j   0.40776762-0.05783662j  0.14256211-0.08847422j\n",
            "  0.03554071+0.42123561j  0.20387432+0.27673888j -0.34524035+0.18029698j\n",
            "  0.23851081-0.20238807j  0.02043589-0.23046374j]\n",
            "||r||: 0.18731905876015592\n",
            "i: 4\n",
            "eigenvalue: (-0.30013339862434085-0.3572560593271267j)\n",
            "eigenvector:\n",
            "[-0.38267492+0.2363464j   0.40776762+0.05783662j  0.14256211+0.08847422j\n",
            "  0.03554071-0.42123561j  0.20387432-0.27673888j -0.34524035-0.18029698j\n",
            "  0.23851081+0.20238807j  0.02043589+0.23046374j]\n",
            "||r||: 0.18731905876015592\n",
            "i: 5\n",
            "eigenvalue: (0.16473469723646283+0.427170338752917j)\n",
            "eigenvector:\n",
            "[-0.28255113+0.19562966j -0.19870958-0.32674686j  0.0705766 -0.32381947j\n",
            " -0.21903204+0.1579322j  -0.30924354+0.10702272j  0.20661765+0.06319612j\n",
            "  0.38270753+0.1763432j   0.45471937-0.12159543j]\n",
            "||r||: 0.15710715357105443\n",
            "i: 6\n",
            "eigenvalue: (0.16473469723646283-0.427170338752917j)\n",
            "eigenvector:\n",
            "[-0.28255113-0.19562966j -0.19870958+0.32674686j  0.0705766 +0.32381947j\n",
            " -0.21903204-0.1579322j  -0.30924354-0.10702272j  0.20661765-0.06319612j\n",
            "  0.38270753-0.1763432j   0.45471937+0.12159543j]\n",
            "||r||: 0.15710715357105443\n"
          ]
        }
      ]
    },
    {
      "cell_type": "code",
      "source": [
        "%matplotlib inline\n",
        " \n",
        "import matplotlib.pyplot as plt\n",
        "plt.plot(np.arange(1, n), max_abs_eigenvalue_norm_r, marker='*')\n",
        "plt.yscale('log')\n",
        "plt.xlabel(\"m\")\n",
        "plt.ylabel(\"||r||\")\n",
        "plt.show()"
      ],
      "metadata": {
        "colab": {
          "base_uri": "https://localhost:8080/",
          "height": 279
        },
        "id": "EOQWq2576gGx",
        "outputId": "81ee8a4b-5787-4cbf-8f3e-0697d499d60b"
      },
      "execution_count": 21,
      "outputs": [
        {
          "output_type": "display_data",
          "data": {
            "text/plain": [
              "<Figure size 432x288 with 1 Axes>"
            ],
            "image/png": "[encoded data removed]"
          },
          "metadata": {
            "needs_background": "light"
          }
        }
      ]
    }
  ]
}