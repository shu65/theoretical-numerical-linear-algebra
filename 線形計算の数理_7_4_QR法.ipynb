{
  "nbformat": 4,
  "nbformat_minor": 0,
  "metadata": {
    "colab": {
      "name": "線形計算の数理 7.4 QR法",
      "provenance": [],
      "collapsed_sections": [],
      "authorship_tag": "ABX9TyMA9dRbFs/3GulyGYylPKe1",
      "include_colab_link": true
    },
    "kernelspec": {
      "name": "python3",
      "display_name": "Python 3"
    },
    "language_info": {
      "name": "python"
    }
  },
  "cells": [
    {
      "cell_type": "markdown",
      "metadata": {
        "id": "view-in-github",
        "colab_type": "text"
      },
      "source": [
        "<a href=\"https://colab.research.google.com/github/shu65/theoretical-numerical-linear-algebra/blob/main/%E7%B7%9A%E5%BD%A2%E8%A8%88%E7%AE%97%E3%81%AE%E6%95%B0%E7%90%86_7_4_QR%E6%B3%95.ipynb\" target=\"_parent\"><img src=\"https://colab.research.google.com/assets/colab-badge.svg\" alt=\"Open In Colab\"/></a>"
      ]
    },
    {
      "cell_type": "code",
      "execution_count": 1,
      "metadata": {
        "colab": {
          "base_uri": "https://localhost:8080/"
        },
        "id": "7bme5gYyb0mf",
        "outputId": "170fa781-8d36-490d-b8c1-edb79dec379c"
      },
      "outputs": [
        {
          "output_type": "execute_result",
          "data": {
            "text/plain": [
              "array([[1., 0., 0.],\n",
              "       [0., 2., 1.],\n",
              "       [0., 1., 1.]])"
            ]
          },
          "metadata": {},
          "execution_count": 1
        }
      ],
      "source": [
        "import numpy as np\n",
        "\n",
        "a_matrix = np.array([\n",
        "      [1., 0., 0.,],\n",
        "      [0., 2., 1.,],\n",
        "      [0., 1., 1.],\n",
        "  ])\n",
        "a_matrix"
      ]
    },
    {
      "cell_type": "code",
      "source": [
        "expected_eigenvalues, expected_eigenvectors = np.linalg.eig(a_matrix)\n",
        "print(\"expected eigenvalues:\", expected_eigenvalues)\n",
        "print(\"expected eigenvectors:\")\n",
        "print(expected_eigenvectors)"
      ],
      "metadata": {
        "colab": {
          "base_uri": "https://localhost:8080/"
        },
        "id": "_0da2Z7DcGVD",
        "outputId": "9ed0f693-8a4d-41ef-8f9c-49afc29d0802"
      },
      "execution_count": 2,
      "outputs": [
        {
          "output_type": "stream",
          "name": "stdout",
          "text": [
            "expected eigenvalues: [0.38196601 2.61803399 1.        ]\n",
            "expected eigenvectors:\n",
            "[[ 0.          0.          1.        ]\n",
            " [ 0.52573111 -0.85065081  0.        ]\n",
            " [-0.85065081 -0.52573111  0.        ]]\n"
          ]
        }
      ]
    },
    {
      "cell_type": "code",
      "source": [
        "def qr_method(a, eps=1e-7, max_iterations=100):\n",
        "  a_k = a\n",
        "  q_km1 = np.identity(a_k.shape[0])\n",
        "  for i in range(max_iterations):\n",
        "    q_k, r_k = np.linalg.qr(a_k)\n",
        "    relative_residual_norm = np.linalg.norm(q_km1 - q_k)\n",
        "    if relative_residual_norm < eps:\n",
        "      break\n",
        "    a_k = r_k @ q_k\n",
        "    q_km1 = q_k\n",
        "  eigenvalues = np.diag(a_k)\n",
        "  return eigenvalues\n",
        "\n",
        "eigenvalues = qr_method(a_matrix)\n",
        "print(\"eigenvalues:\", eigenvalues)"
      ],
      "metadata": {
        "colab": {
          "base_uri": "https://localhost:8080/"
        },
        "id": "CPNNcd-pcJP4",
        "outputId": "dfb3b51d-e194-4095-8094-120f8c7bff91"
      },
      "execution_count": 3,
      "outputs": [
        {
          "output_type": "stream",
          "name": "stdout",
          "text": [
            "eigenvalues: [1.         2.61803399 0.38196601]\n"
          ]
        }
      ]
    },
    {
      "cell_type": "code",
      "source": [
        "def qr_method_with_eigenvectors(a, eps=1e-7, max_iterations=100):\n",
        "  a_k = a\n",
        "  n = a_k.shape[0]\n",
        "  eigenvectors = np.identity(n)\n",
        "  for i in range(max_iterations):\n",
        "    q_k, r_k = np.linalg.qr(a_k)\n",
        "    eigenvectors = np.dot(q_k, eigenvectors)\n",
        "    a_kp1 = r_k @ q_k\n",
        "    relative_residual_norm = np.linalg.norm(np.diag(a_kp1) - np.diag(a_k))\n",
        "    if relative_residual_norm < eps:\n",
        "      break\n",
        "    a_k = a_kp1\n",
        "  eigenvalues = np.diag(a_kp1)\n",
        "  return eigenvalues, eigenvectors\n",
        "\n",
        "eigenvalues, eigenvectors = qr_method_with_eigenvectors(a_matrix)\n",
        "print(\"eigenvalues:\", eigenvalues)\n",
        "print(\"eigenvectors:\")\n",
        "print(eigenvectors)"
      ],
      "metadata": {
        "colab": {
          "base_uri": "https://localhost:8080/"
        },
        "id": "HLUHQsUEepMf",
        "outputId": "c25a9e9b-ad5e-48f1-a378-4330f84e3681"
      },
      "execution_count": 4,
      "outputs": [
        {
          "output_type": "stream",
          "name": "stdout",
          "text": [
            "eigenvalues: [1.         2.61803399 0.38196601]\n",
            "eigenvectors:\n",
            "[[ 1.          0.          0.        ]\n",
            " [ 0.          0.85065394  0.52572604]\n",
            " [ 0.         -0.52572604  0.85065394]]\n"
          ]
        }
      ]
    }
  ]
}