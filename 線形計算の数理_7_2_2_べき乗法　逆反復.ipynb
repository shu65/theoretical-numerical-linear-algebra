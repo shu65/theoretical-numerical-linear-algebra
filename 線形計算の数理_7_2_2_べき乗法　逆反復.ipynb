{
  "nbformat": 4,
  "nbformat_minor": 0,
  "metadata": {
    "colab": {
      "name": "線形計算の数理 7.2.2 べき乗法　逆反復",
      "provenance": [],
      "collapsed_sections": [],
      "authorship_tag": "ABX9TyOoVptI8Vr121l/U3uvxwEL",
      "include_colab_link": true
    },
    "kernelspec": {
      "name": "python3",
      "display_name": "Python 3"
    },
    "language_info": {
      "name": "python"
    }
  },
  "cells": [
    {
      "cell_type": "markdown",
      "metadata": {
        "id": "view-in-github",
        "colab_type": "text"
      },
      "source": [
        "<a href=\"https://colab.research.google.com/github/shu65/theoretical-numerical-linear-algebra/blob/main/%E7%B7%9A%E5%BD%A2%E8%A8%88%E7%AE%97%E3%81%AE%E6%95%B0%E7%90%86_7_2_2_%E3%81%B9%E3%81%8D%E4%B9%97%E6%B3%95%E3%80%80%E9%80%86%E5%8F%8D%E5%BE%A9.ipynb\" target=\"_parent\"><img src=\"https://colab.research.google.com/assets/colab-badge.svg\" alt=\"Open In Colab\"/></a>"
      ]
    },
    {
      "cell_type": "code",
      "execution_count": null,
      "metadata": {
        "colab": {
          "base_uri": "https://localhost:8080/"
        },
        "id": "WgM1lSIhlxuo",
        "outputId": "0532012d-521f-4a01-9b62-a316eb0f643e"
      },
      "outputs": [
        {
          "output_type": "execute_result",
          "data": {
            "text/plain": [
              "array([[1, 0],\n",
              "       [0, 2]])"
            ]
          },
          "metadata": {},
          "execution_count": 1
        }
      ],
      "source": [
        "import numpy as np\n",
        "\n",
        "a_matrix = np.array(\n",
        "    [[1, 0],\n",
        "     [0, 2]]\n",
        "     )\n",
        "a_matrix"
      ]
    },
    {
      "cell_type": "code",
      "source": [
        "np.linalg.eig(a_matrix)"
      ],
      "metadata": {
        "colab": {
          "base_uri": "https://localhost:8080/"
        },
        "id": "Us8f4jlQmbHA",
        "outputId": "bbfaab8e-a245-4322-dc77-1165257005e3"
      },
      "execution_count": null,
      "outputs": [
        {
          "output_type": "execute_result",
          "data": {
            "text/plain": [
              "(array([1., 2.]), array([[1., 0.],\n",
              "        [0., 1.]]))"
            ]
          },
          "metadata": {},
          "execution_count": 2
        }
      ]
    },
    {
      "cell_type": "code",
      "source": [
        "def lu_decompose(a):\n",
        "  n = a.shape[0]\n",
        "  l = a.copy()\n",
        "  u = np.identity(n)\n",
        "  for i in range(n):\n",
        "    for j in range(i + 1, n):\n",
        "      u[j][i] = l[j][i]/l[i][i]\n",
        "      for k in range(i + 1, n):\n",
        "        l[j][k] -= u[j][i] * l[i][k]\n",
        "    return l, u\n",
        "\n",
        "l, u = lu_decompose(a_matrix)\n",
        "print(\"l\", l)\n",
        "print(\"u\", u)"
      ],
      "metadata": {
        "colab": {
          "base_uri": "https://localhost:8080/"
        },
        "id": "HixFm3wrmdZI",
        "outputId": "9084788d-f852-493e-9a03-c67cd279fd1b"
      },
      "execution_count": null,
      "outputs": [
        {
          "output_type": "stream",
          "name": "stdout",
          "text": [
            "l [[1 0]\n",
            " [0 2]]\n",
            "u [[1. 0.]\n",
            " [0. 1.]]\n"
          ]
        }
      ]
    },
    {
      "cell_type": "code",
      "source": [
        "np.testing.assert_almost_equal(a_matrix, l @ u)"
      ],
      "metadata": {
        "id": "Kl6-xVnwqdyM"
      },
      "execution_count": null,
      "outputs": []
    },
    {
      "cell_type": "code",
      "source": [
        "def l_solve(l, x):\n",
        "  n = len(x)\n",
        "  v = np.zeros(n)\n",
        "  a = l.copy()\n",
        "  b = x.copy()\n",
        "  for i in range(n):\n",
        "    tmp = b[i] / a[i, i]\n",
        "    v[i] = tmp\n",
        "    for j in range(i+1, n):\n",
        "      b[j] -= a[j, i] *  tmp\n",
        "      a[j, i] = 0\n",
        "  return v\n",
        "\n",
        "x = np.ones((a_matrix.shape[1],))/np.sqrt(a_matrix.shape[1]) \n",
        "v = l_solve(l, x)\n",
        "v"
      ],
      "metadata": {
        "id": "9WGeBoJMtFEr",
        "colab": {
          "base_uri": "https://localhost:8080/"
        },
        "outputId": "5699175d-43ce-461b-841d-4341035652d8"
      },
      "execution_count": null,
      "outputs": [
        {
          "output_type": "execute_result",
          "data": {
            "text/plain": [
              "array([0.70710678, 0.35355339])"
            ]
          },
          "metadata": {},
          "execution_count": 12
        }
      ]
    },
    {
      "cell_type": "code",
      "source": [
        "np.testing.assert_almost_equal(l @ v, x)"
      ],
      "metadata": {
        "id": "KAxoB22ZwRqV"
      },
      "execution_count": null,
      "outputs": []
    },
    {
      "cell_type": "code",
      "source": [
        "def u_solve(u, v):\n",
        "  n = len(v)\n",
        "  y = np.zeros(n)\n",
        "  a = u.copy()\n",
        "  b = v.copy()\n",
        "  for i in reversed(range(n)):\n",
        "    tmp = b[i] / a[i, i]\n",
        "    v[i] = tmp\n",
        "    for j in range(i+1, n):\n",
        "      b[j] -= a[j, i] *  tmp\n",
        "      a[j, i] = 0\n",
        "  return v\n",
        "\n",
        "x = np.ones((a_matrix.shape[1],))/np.sqrt(a_matrix.shape[1]) \n",
        "y = u_solve(u, v)\n",
        "y"
      ],
      "metadata": {
        "colab": {
          "base_uri": "https://localhost:8080/"
        },
        "id": "yV4rAUTAwuEQ",
        "outputId": "82b38be8-d67c-46f7-929f-ad33878553d2"
      },
      "execution_count": null,
      "outputs": [
        {
          "output_type": "execute_result",
          "data": {
            "text/plain": [
              "array([0.70710678, 0.35355339])"
            ]
          },
          "metadata": {},
          "execution_count": 27
        }
      ]
    },
    {
      "cell_type": "code",
      "source": [
        "np.testing.assert_almost_equal(u @ y, v)"
      ],
      "metadata": {
        "id": "GtCoYytixeJZ"
      },
      "execution_count": null,
      "outputs": []
    },
    {
      "cell_type": "code",
      "source": [
        "def inverse_power_method(a, max_iterations=100):\n",
        "  l, u = lu_decompose(a)\n",
        "  eigen_vector = np.ones((a.shape[1],))/np.sqrt(a.shape[1])\n",
        "  print(\"init eigen_vector\", eigen_vector)\n",
        "  for i in range(max_iterations):\n",
        "    v = l_solve(l, eigen_vector)\n",
        "    y = u_solve(u, v)\n",
        "    inversed_eigen_value = np.linalg.norm(y)\n",
        "    eigen_vector = y/inversed_eigen_value\n",
        "    print(f\"iter:{i} eigen_value:{1.0/inversed_eigen_value} eigen_vector:{eigen_vector}\")\n",
        "  return 1.0/inversed_eigen_value, eigen_vector\n",
        "\n",
        "inverse_power_method(a_matrix)"
      ],
      "metadata": {
        "id": "mcISMfC0r74L",
        "colab": {
          "base_uri": "https://localhost:8080/"
        },
        "outputId": "d94e5ac5-b84e-4e36-f7af-02e286987fcd"
      },
      "execution_count": null,
      "outputs": [
        {
          "output_type": "stream",
          "name": "stdout",
          "text": [
            "init eigen_vector [0.70710678 0.70710678]\n",
            "iter:0 eigen_value:1.2649110640673518 eigen_vector:[0.89442719 0.4472136 ]\n",
            "iter:1 eigen_value:1.0846522890932808 eigen_vector:[0.9701425  0.24253563]\n",
            "iter:2 eigen_value:1.0228166239135177 eigen_vector:[0.99227788 0.12403473]\n",
            "iter:3 eigen_value:1.0058196417603769 eigen_vector:[0.99805258 0.06237829]\n",
            "iter:4 eigen_value:1.0014623454071014 eigen_vector:[0.99951208 0.03123475]\n",
            "iter:5 eigen_value:1.000366054554387 eigen_vector:[0.99987795 0.01562309]\n",
            "iter:6 eigen_value:1.000091542956724 eigen_vector:[0.99996948 0.00781226]\n",
            "iter:7 eigen_value:1.0000228875724326 eigen_vector:[0.99999237 0.00390622]\n",
            "iter:8 eigen_value:1.0000057220076999 eigen_vector:[0.99999809 0.00195312]\n",
            "iter:9 eigen_value:1.0000014305090872 eigen_vector:[9.99999523e-01 9.76562034e-04]\n",
            "iter:10 eigen_value:1.0000003576277194 eigen_vector:[9.99999881e-01 4.88281192e-04]\n",
            "iter:11 eigen_value:1.0000000894069578 eigen_vector:[9.99999970e-01 2.44140618e-04]\n",
            "iter:12 eigen_value:1.0000000223517411 eigen_vector:[9.99999993e-01 1.22070312e-04]\n",
            "iter:13 eigen_value:1.0000000055879354 eigen_vector:[9.99999998e-01 6.10351561e-05]\n",
            "iter:14 eigen_value:1.0000000013969839 eigen_vector:[1.00000000e+00 3.05175781e-05]\n",
            "iter:15 eigen_value:1.000000000349246 eigen_vector:[1.00000000e+00 1.52587891e-05]\n",
            "iter:16 eigen_value:1.0000000000873115 eigen_vector:[1.00000000e+00 7.62939453e-06]\n",
            "iter:17 eigen_value:1.0000000000218279 eigen_vector:[1.00000000e+00 3.81469727e-06]\n",
            "iter:18 eigen_value:1.000000000005457 eigen_vector:[1.00000000e+00 1.90734863e-06]\n",
            "iter:19 eigen_value:1.0000000000013642 eigen_vector:[1.00000000e+00 9.53674316e-07]\n",
            "iter:20 eigen_value:1.000000000000341 eigen_vector:[1.00000000e+00 4.76837158e-07]\n",
            "iter:21 eigen_value:1.0000000000000853 eigen_vector:[1.00000000e+00 2.38418579e-07]\n",
            "iter:22 eigen_value:1.0000000000000213 eigen_vector:[1.0000000e+00 1.1920929e-07]\n",
            "iter:23 eigen_value:1.0000000000000053 eigen_vector:[1.00000000e+00 5.96046448e-08]\n",
            "iter:24 eigen_value:1.0000000000000013 eigen_vector:[1.00000000e+00 2.98023224e-08]\n",
            "iter:25 eigen_value:1.0000000000000004 eigen_vector:[1.00000000e+00 1.49011612e-08]\n",
            "iter:26 eigen_value:1.0000000000000002 eigen_vector:[1.0000000e+00 7.4505806e-09]\n",
            "iter:27 eigen_value:1.0 eigen_vector:[1.0000000e+00 3.7252903e-09]\n",
            "iter:28 eigen_value:1.0 eigen_vector:[1.00000000e+00 1.86264515e-09]\n",
            "iter:29 eigen_value:1.0 eigen_vector:[1.00000000e+00 9.31322575e-10]\n",
            "iter:30 eigen_value:1.0 eigen_vector:[1.00000000e+00 4.65661287e-10]\n",
            "iter:31 eigen_value:1.0 eigen_vector:[1.00000000e+00 2.32830644e-10]\n",
            "iter:32 eigen_value:1.0 eigen_vector:[1.00000000e+00 1.16415322e-10]\n",
            "iter:33 eigen_value:1.0 eigen_vector:[1.00000000e+00 5.82076609e-11]\n",
            "iter:34 eigen_value:1.0 eigen_vector:[1.00000000e+00 2.91038305e-11]\n",
            "iter:35 eigen_value:1.0 eigen_vector:[1.00000000e+00 1.45519152e-11]\n",
            "iter:36 eigen_value:1.0 eigen_vector:[1.00000000e+00 7.27595761e-12]\n",
            "iter:37 eigen_value:1.0 eigen_vector:[1.00000000e+00 3.63797881e-12]\n",
            "iter:38 eigen_value:1.0 eigen_vector:[1.0000000e+00 1.8189894e-12]\n",
            "iter:39 eigen_value:1.0 eigen_vector:[1.00000000e+00 9.09494702e-13]\n",
            "iter:40 eigen_value:1.0 eigen_vector:[1.00000000e+00 4.54747351e-13]\n",
            "iter:41 eigen_value:1.0 eigen_vector:[1.00000000e+00 2.27373675e-13]\n",
            "iter:42 eigen_value:1.0 eigen_vector:[1.00000000e+00 1.13686838e-13]\n",
            "iter:43 eigen_value:1.0 eigen_vector:[1.00000000e+00 5.68434189e-14]\n",
            "iter:44 eigen_value:1.0 eigen_vector:[1.00000000e+00 2.84217094e-14]\n",
            "iter:45 eigen_value:1.0 eigen_vector:[1.00000000e+00 1.42108547e-14]\n",
            "iter:46 eigen_value:1.0 eigen_vector:[1.00000000e+00 7.10542736e-15]\n",
            "iter:47 eigen_value:1.0 eigen_vector:[1.00000000e+00 3.55271368e-15]\n",
            "iter:48 eigen_value:1.0 eigen_vector:[1.00000000e+00 1.77635684e-15]\n",
            "iter:49 eigen_value:1.0 eigen_vector:[1.0000000e+00 8.8817842e-16]\n",
            "iter:50 eigen_value:1.0 eigen_vector:[1.0000000e+00 4.4408921e-16]\n",
            "iter:51 eigen_value:1.0 eigen_vector:[1.00000000e+00 2.22044605e-16]\n",
            "iter:52 eigen_value:1.0 eigen_vector:[1.00000000e+00 1.11022302e-16]\n",
            "iter:53 eigen_value:1.0 eigen_vector:[1.00000000e+00 5.55111512e-17]\n",
            "iter:54 eigen_value:1.0 eigen_vector:[1.00000000e+00 2.77555756e-17]\n",
            "iter:55 eigen_value:1.0 eigen_vector:[1.00000000e+00 1.38777878e-17]\n",
            "iter:56 eigen_value:1.0 eigen_vector:[1.0000000e+00 6.9388939e-18]\n",
            "iter:57 eigen_value:1.0 eigen_vector:[1.00000000e+00 3.46944695e-18]\n",
            "iter:58 eigen_value:1.0 eigen_vector:[1.00000000e+00 1.73472348e-18]\n",
            "iter:59 eigen_value:1.0 eigen_vector:[1.00000000e+00 8.67361738e-19]\n",
            "iter:60 eigen_value:1.0 eigen_vector:[1.00000000e+00 4.33680869e-19]\n",
            "iter:61 eigen_value:1.0 eigen_vector:[1.00000000e+00 2.16840434e-19]\n",
            "iter:62 eigen_value:1.0 eigen_vector:[1.00000000e+00 1.08420217e-19]\n",
            "iter:63 eigen_value:1.0 eigen_vector:[1.00000000e+00 5.42101086e-20]\n",
            "iter:64 eigen_value:1.0 eigen_vector:[1.00000000e+00 2.71050543e-20]\n",
            "iter:65 eigen_value:1.0 eigen_vector:[1.00000000e+00 1.35525272e-20]\n",
            "iter:66 eigen_value:1.0 eigen_vector:[1.00000000e+00 6.77626358e-21]\n",
            "iter:67 eigen_value:1.0 eigen_vector:[1.00000000e+00 3.38813179e-21]\n",
            "iter:68 eigen_value:1.0 eigen_vector:[1.00000000e+00 1.69406589e-21]\n",
            "iter:69 eigen_value:1.0 eigen_vector:[1.00000000e+00 8.47032947e-22]\n",
            "iter:70 eigen_value:1.0 eigen_vector:[1.00000000e+00 4.23516474e-22]\n",
            "iter:71 eigen_value:1.0 eigen_vector:[1.00000000e+00 2.11758237e-22]\n",
            "iter:72 eigen_value:1.0 eigen_vector:[1.00000000e+00 1.05879118e-22]\n",
            "iter:73 eigen_value:1.0 eigen_vector:[1.00000000e+00 5.29395592e-23]\n",
            "iter:74 eigen_value:1.0 eigen_vector:[1.00000000e+00 2.64697796e-23]\n",
            "iter:75 eigen_value:1.0 eigen_vector:[1.00000000e+00 1.32348898e-23]\n",
            "iter:76 eigen_value:1.0 eigen_vector:[1.0000000e+00 6.6174449e-24]\n",
            "iter:77 eigen_value:1.0 eigen_vector:[1.00000000e+00 3.30872245e-24]\n",
            "iter:78 eigen_value:1.0 eigen_vector:[1.00000000e+00 1.65436123e-24]\n",
            "iter:79 eigen_value:1.0 eigen_vector:[1.00000000e+00 8.27180613e-25]\n",
            "iter:80 eigen_value:1.0 eigen_vector:[1.00000000e+00 4.13590306e-25]\n",
            "iter:81 eigen_value:1.0 eigen_vector:[1.00000000e+00 2.06795153e-25]\n",
            "iter:82 eigen_value:1.0 eigen_vector:[1.00000000e+00 1.03397577e-25]\n",
            "iter:83 eigen_value:1.0 eigen_vector:[1.00000000e+00 5.16987883e-26]\n",
            "iter:84 eigen_value:1.0 eigen_vector:[1.00000000e+00 2.58493941e-26]\n",
            "iter:85 eigen_value:1.0 eigen_vector:[1.00000000e+00 1.29246971e-26]\n",
            "iter:86 eigen_value:1.0 eigen_vector:[1.00000000e+00 6.46234854e-27]\n",
            "iter:87 eigen_value:1.0 eigen_vector:[1.00000000e+00 3.23117427e-27]\n",
            "iter:88 eigen_value:1.0 eigen_vector:[1.00000000e+00 1.61558713e-27]\n",
            "iter:89 eigen_value:1.0 eigen_vector:[1.00000000e+00 8.07793567e-28]\n",
            "iter:90 eigen_value:1.0 eigen_vector:[1.00000000e+00 4.03896783e-28]\n",
            "iter:91 eigen_value:1.0 eigen_vector:[1.00000000e+00 2.01948392e-28]\n",
            "iter:92 eigen_value:1.0 eigen_vector:[1.00000000e+00 1.00974196e-28]\n",
            "iter:93 eigen_value:1.0 eigen_vector:[1.00000000e+00 5.04870979e-29]\n",
            "iter:94 eigen_value:1.0 eigen_vector:[1.0000000e+00 2.5243549e-29]\n",
            "iter:95 eigen_value:1.0 eigen_vector:[1.00000000e+00 1.26217745e-29]\n",
            "iter:96 eigen_value:1.0 eigen_vector:[1.00000000e+00 6.31088724e-30]\n",
            "iter:97 eigen_value:1.0 eigen_vector:[1.00000000e+00 3.15544362e-30]\n",
            "iter:98 eigen_value:1.0 eigen_vector:[1.00000000e+00 1.57772181e-30]\n",
            "iter:99 eigen_value:1.0 eigen_vector:[1.00000000e+00 7.88860905e-31]\n"
          ]
        },
        {
          "output_type": "execute_result",
          "data": {
            "text/plain": [
              "(1.0, array([1.00000000e+00, 7.88860905e-31]))"
            ]
          },
          "metadata": {},
          "execution_count": 31
        }
      ]
    }
  ]
}