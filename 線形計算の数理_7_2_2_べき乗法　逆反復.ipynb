{
  "nbformat": 4,
  "nbformat_minor": 0,
  "metadata": {
    "colab": {
      "name": "線形計算の数理 7.2.2 べき乗法　逆反復",
      "provenance": [],
      "collapsed_sections": [],
      "authorship_tag": "ABX9TyPoqxGsj350IHAQCvvYwtDk",
      "include_colab_link": true
    },
    "kernelspec": {
      "name": "python3",
      "display_name": "Python 3"
    },
    "language_info": {
      "name": "python"
    }
  },
  "cells": [
    {
      "cell_type": "markdown",
      "metadata": {
        "id": "view-in-github",
        "colab_type": "text"
      },
      "source": [
        "<a href=\"https://colab.research.google.com/github/shu65/theoretical-numerical-linear-algebra/blob/main/%E7%B7%9A%E5%BD%A2%E8%A8%88%E7%AE%97%E3%81%AE%E6%95%B0%E7%90%86_7_2_2_%E3%81%B9%E3%81%8D%E4%B9%97%E6%B3%95%E3%80%80%E9%80%86%E5%8F%8D%E5%BE%A9.ipynb\" target=\"_parent\"><img src=\"https://colab.research.google.com/assets/colab-badge.svg\" alt=\"Open In Colab\"/></a>"
      ]
    },
    {
      "cell_type": "code",
      "execution_count": 10,
      "metadata": {
        "colab": {
          "base_uri": "https://localhost:8080/"
        },
        "id": "WgM1lSIhlxuo",
        "outputId": "dcfc2d59-ac8d-4e71-a2c2-883a6b08f465"
      },
      "outputs": [
        {
          "output_type": "execute_result",
          "data": {
            "text/plain": [
              "array([[1., 0., 0.],\n",
              "       [0., 2., 1.],\n",
              "       [0., 1., 1.]])"
            ]
          },
          "metadata": {},
          "execution_count": 10
        }
      ],
      "source": [
        "import numpy as np\n",
        "\n",
        "a_matrix = np.array([\n",
        "    [1., 0., 0.,],\n",
        "    [0., 2., 1.,],\n",
        "    [0., 1., 1.],\n",
        "])\n",
        "a_matrix"
      ]
    },
    {
      "cell_type": "code",
      "source": [
        "np.linalg.eig(a_matrix)"
      ],
      "metadata": {
        "colab": {
          "base_uri": "https://localhost:8080/"
        },
        "id": "Us8f4jlQmbHA",
        "outputId": "1add4c3a-7af9-4375-ae76-918279959b57"
      },
      "execution_count": 11,
      "outputs": [
        {
          "output_type": "execute_result",
          "data": {
            "text/plain": [
              "(array([0.38196601, 2.61803399, 1.        ]),\n",
              " array([[ 0.        ,  0.        ,  1.        ],\n",
              "        [ 0.52573111, -0.85065081,  0.        ],\n",
              "        [-0.85065081, -0.52573111,  0.        ]]))"
            ]
          },
          "metadata": {},
          "execution_count": 11
        }
      ]
    },
    {
      "cell_type": "code",
      "source": [
        "def lu_decompose(a):\n",
        "  n = a.shape[0]\n",
        "  t = a.copy()\n",
        "  for k in range(n):\n",
        "    w = 1/t[k, k]\n",
        "    for i in range(k + 1, n):\n",
        "      t[i, k] = t[i, k]*w\n",
        "      for j in range(k + 1, n):\n",
        "        t[i,j] = t[i,j] - t[i, k] * t[k, j]\n",
        "  l = np.identity(n)\n",
        "  u = np.zeros_like(a)\n",
        "  for i in range(n):\n",
        "    for j in range(n):\n",
        "      if i > j:\n",
        "        l[i, j] = t[i, j]\n",
        "      else:\n",
        "        u[i, j] = t[i, j]\n",
        "  return l, u\n",
        "\n",
        "l, u = lu_decompose(a_matrix)\n",
        "print(\"l\", l)\n",
        "print(\"u\", u)"
      ],
      "metadata": {
        "colab": {
          "base_uri": "https://localhost:8080/"
        },
        "id": "HixFm3wrmdZI",
        "outputId": "ca8694a0-852d-4d4a-fb27-e00e41b18f5e"
      },
      "execution_count": 12,
      "outputs": [
        {
          "output_type": "stream",
          "name": "stdout",
          "text": [
            "l [[1.  0.  0. ]\n",
            " [0.  1.  0. ]\n",
            " [0.  0.5 1. ]]\n",
            "u [[1.  0.  0. ]\n",
            " [0.  2.  1. ]\n",
            " [0.  0.  0.5]]\n"
          ]
        }
      ]
    },
    {
      "cell_type": "code",
      "source": [
        "np.testing.assert_almost_equal(a_matrix, l @ u)"
      ],
      "metadata": {
        "id": "Kl6-xVnwqdyM"
      },
      "execution_count": 13,
      "outputs": []
    },
    {
      "cell_type": "code",
      "source": [
        "def l_solve(l, x):\n",
        "  n = len(x)\n",
        "  v = np.zeros(n)\n",
        "  a = l.copy()\n",
        "  b = x.copy()\n",
        "  for i in range(n):\n",
        "    tmp = b[i] / a[i, i]\n",
        "    v[i] = tmp\n",
        "    for j in range(i+1, n):\n",
        "      b[j] -= a[j, i] *  tmp\n",
        "      a[j, i] = 0\n",
        "  return v\n",
        "\n",
        "x = np.ones((a_matrix.shape[1],))/np.sqrt(a_matrix.shape[1]) \n",
        "v = l_solve(l, x)\n",
        "print(l, x)\n",
        "print(v)"
      ],
      "metadata": {
        "id": "9WGeBoJMtFEr",
        "colab": {
          "base_uri": "https://localhost:8080/"
        },
        "outputId": "bdf6a24c-29d3-4b53-8c63-44916f2687aa"
      },
      "execution_count": 14,
      "outputs": [
        {
          "output_type": "stream",
          "name": "stdout",
          "text": [
            "[[1.  0.  0. ]\n",
            " [0.  1.  0. ]\n",
            " [0.  0.5 1. ]] [0.57735027 0.57735027 0.57735027]\n",
            "[0.57735027 0.57735027 0.28867513]\n"
          ]
        }
      ]
    },
    {
      "cell_type": "code",
      "source": [
        "np.testing.assert_almost_equal(l @ v, x)"
      ],
      "metadata": {
        "id": "KAxoB22ZwRqV"
      },
      "execution_count": 15,
      "outputs": []
    },
    {
      "cell_type": "code",
      "source": [
        "def u_solve(u, v):\n",
        "  n = len(v)\n",
        "  y = np.zeros(n)\n",
        "  a = u.copy()\n",
        "  b = v.copy()\n",
        "  for i in reversed(range(n)):\n",
        "    tmp = b[i] / a[i, i]\n",
        "    y[i] = tmp\n",
        "    for j in range(0, i):\n",
        "      b[j] -= a[j, i] *  tmp\n",
        "      a[j, i] = 0\n",
        "    #print(a, b, y)\n",
        "  return y\n",
        "\n",
        "x = np.ones((a_matrix.shape[1],))/np.sqrt(a_matrix.shape[1]) \n",
        "y = u_solve(u, v)\n",
        "y"
      ],
      "metadata": {
        "colab": {
          "base_uri": "https://localhost:8080/"
        },
        "id": "yV4rAUTAwuEQ",
        "outputId": "a48cd5e0-5390-4f3f-c006-dfa413a224e5"
      },
      "execution_count": 16,
      "outputs": [
        {
          "output_type": "execute_result",
          "data": {
            "text/plain": [
              "array([0.57735027, 0.        , 0.57735027])"
            ]
          },
          "metadata": {},
          "execution_count": 16
        }
      ]
    },
    {
      "cell_type": "code",
      "source": [
        "np.testing.assert_almost_equal(u @ y, v)"
      ],
      "metadata": {
        "id": "GtCoYytixeJZ"
      },
      "execution_count": 17,
      "outputs": []
    },
    {
      "cell_type": "code",
      "source": [
        "def inverse_power_method(a, max_iterations=100):\n",
        "  l, u = lu_decompose(a)\n",
        "  eigen_vector = np.ones((a.shape[1],))/np.sqrt(a.shape[1])\n",
        "  print(\"init eigen_vector\", eigen_vector)\n",
        "  for i in range(max_iterations):\n",
        "    v = l_solve(l, eigen_vector)\n",
        "    y = u_solve(u, v)\n",
        "    inversed_eigen_value = np.linalg.norm(y)\n",
        "    eigen_vector = y/inversed_eigen_value\n",
        "    print(f\"iter:{i} eigen_value:{1.0/inversed_eigen_value} eigen_vector:{eigen_vector}\")\n",
        "  return 1.0/inversed_eigen_value, eigen_vector\n",
        "\n",
        "inverse_power_method(a_matrix)"
      ],
      "metadata": {
        "id": "mcISMfC0r74L",
        "colab": {
          "base_uri": "https://localhost:8080/"
        },
        "outputId": "f5dcce08-b8b8-4c69-deb2-3dbc79940863"
      },
      "execution_count": 18,
      "outputs": [
        {
          "output_type": "stream",
          "name": "stdout",
          "text": [
            "init eigen_vector [0.57735027 0.57735027 0.57735027]\n",
            "iter:0 eigen_value:1.224744871391589 eigen_vector:[0.70710678 0.         0.70710678]\n",
            "iter:1 eigen_value:0.5773502691896256 eigen_vector:[ 0.40824829 -0.40824829  0.81649658]\n",
            "iter:2 eigen_value:0.4140393356054126 eigen_vector:[ 0.16903085 -0.50709255  0.84515425]\n",
            "iter:3 eigen_value:0.3867462340768809 eigen_vector:[ 0.06537205 -0.52297636  0.84983659]\n",
            "iter:4 eigen_value:0.38266570437083464 eigen_vector:[ 0.02501564 -0.52532843  0.85053175]\n",
            "iter:5 eigen_value:0.38206814379405946 eigen_vector:[ 0.00955768 -0.52567235  0.85063343]\n",
            "iter:6 eigen_value:0.3819809132252592 eigen_vector:[ 0.00365085 -0.52572254  0.85064827]\n",
            "iter:7 eigen_value:0.3819681854410742 eigen_vector:[ 0.00139451 -0.52572986  0.85065044]\n",
            "iter:8 eigen_value:0.3819663284607629 eigen_vector:[ 5.32655450e-04 -5.25730930e-01  8.50650754e-01]\n",
            "iter:9 eigen_value:0.3819660575305264 eigen_vector:[ 2.03456302e-04 -5.25731085e-01  8.50650800e-01]\n",
            "iter:10 eigen_value:0.38196601800232777 eigen_vector:[ 7.77133937e-05 -5.25731108e-01  8.50650807e-01]\n",
            "iter:11 eigen_value:0.3819660122352412 eigen_vector:[ 2.96838751e-05 -5.25731112e-01  8.50650808e-01]\n",
            "iter:12 eigen_value:0.3819660113938346 eigen_vector:[ 1.13382314e-05 -5.25731112e-01  8.50650808e-01]\n",
            "iter:13 eigen_value:0.38196601127107493 eigen_vector:[ 4.33081901e-06 -5.25731112e-01  8.50650808e-01]\n",
            "iter:14 eigen_value:0.3819660112531646 eigen_vector:[ 1.65422566e-06 -5.25731112e-01  8.50650808e-01]\n",
            "iter:15 eigen_value:0.3819660112505516 eigen_vector:[ 6.31857978e-07 -5.25731112e-01  8.50650808e-01]\n",
            "iter:16 eigen_value:0.3819660112501702 eigen_vector:[ 2.41348272e-07 -5.25731112e-01  8.50650808e-01]\n",
            "iter:17 eigen_value:0.38196601125011465 eigen_vector:[ 9.21868366e-08 -5.25731112e-01  8.50650808e-01]\n",
            "iter:18 eigen_value:0.3819660112501065 eigen_vector:[ 3.52122383e-08 -5.25731112e-01  8.50650808e-01]\n",
            "iter:19 eigen_value:0.38196601125010543 eigen_vector:[ 1.34498782e-08 -5.25731112e-01  8.50650808e-01]\n",
            "iter:20 eigen_value:0.3819660112501052 eigen_vector:[ 5.13739633e-09 -5.25731112e-01  8.50650808e-01]\n",
            "iter:21 eigen_value:0.38196601125010515 eigen_vector:[ 1.96231078e-09 -5.25731112e-01  8.50650808e-01]\n",
            "iter:22 eigen_value:0.38196601125010515 eigen_vector:[ 7.49536023e-10 -5.25731112e-01  8.50650808e-01]\n",
            "iter:23 eigen_value:0.38196601125010515 eigen_vector:[ 2.86297285e-10 -5.25731112e-01  8.50650808e-01]\n",
            "iter:24 eigen_value:0.38196601125010515 eigen_vector:[ 1.09355832e-10 -5.25731112e-01  8.50650808e-01]\n",
            "iter:25 eigen_value:0.38196601125010515 eigen_vector:[ 4.17702109e-11 -5.25731112e-01  8.50650808e-01]\n",
            "iter:26 eigen_value:0.38196601125010515 eigen_vector:[ 1.59548009e-11 -5.25731112e-01  8.50650808e-01]\n",
            "iter:27 eigen_value:0.38196601125010515 eigen_vector:[ 6.09419165e-12 -5.25731112e-01  8.50650808e-01]\n",
            "iter:28 eigen_value:0.38196601125010515 eigen_vector:[ 2.32777407e-12 -5.25731112e-01  8.50650808e-01]\n",
            "iter:29 eigen_value:0.38196601125010515 eigen_vector:[ 8.89130578e-13 -5.25731112e-01  8.50650808e-01]\n",
            "iter:30 eigen_value:0.38196601125010515 eigen_vector:[ 3.39617661e-13 -5.25731112e-01  8.50650808e-01]\n",
            "iter:31 eigen_value:0.38196601125010515 eigen_vector:[ 1.29722403e-13 -5.25731112e-01  8.50650808e-01]\n",
            "iter:32 eigen_value:0.38196601125010515 eigen_vector:[ 4.95495489e-14 -5.25731112e-01  8.50650808e-01]\n",
            "iter:33 eigen_value:0.38196601125010515 eigen_vector:[ 1.89262436e-14 -5.25731112e-01  8.50650808e-01]\n",
            "iter:34 eigen_value:0.38196601125010515 eigen_vector:[ 7.22918176e-15 -5.25731112e-01  8.50650808e-01]\n",
            "iter:35 eigen_value:0.38196601125010515 eigen_vector:[ 2.76130172e-15 -5.25731112e-01  8.50650808e-01]\n",
            "iter:36 eigen_value:0.38196601125010515 eigen_vector:[ 1.05472340e-15 -5.25731112e-01  8.50650808e-01]\n",
            "iter:37 eigen_value:0.38196601125010515 eigen_vector:[ 4.02868492e-16 -5.25731112e-01  8.50650808e-01]\n",
            "iter:38 eigen_value:0.38196601125010515 eigen_vector:[ 1.53882071e-16 -5.25731112e-01  8.50650808e-01]\n",
            "iter:39 eigen_value:0.38196601125010515 eigen_vector:[ 5.87777208e-17 -5.25731112e-01  8.50650808e-01]\n",
            "iter:40 eigen_value:0.38196601125010515 eigen_vector:[ 2.24510916e-17 -5.25731112e-01  8.50650808e-01]\n",
            "iter:41 eigen_value:0.38196601125010515 eigen_vector:[ 8.57555389e-18 -5.25731112e-01  8.50650808e-01]\n",
            "iter:42 eigen_value:0.38196601125010515 eigen_vector:[ 3.27557011e-18 -5.25731112e-01  8.50650808e-01]\n",
            "iter:43 eigen_value:0.38196601125010515 eigen_vector:[ 1.25115645e-18 -5.25731112e-01  8.50650808e-01]\n",
            "iter:44 eigen_value:0.38196601125010515 eigen_vector:[ 4.77899239e-19 -5.25731112e-01  8.50650808e-01]\n",
            "iter:45 eigen_value:0.38196601125010515 eigen_vector:[ 1.82541266e-19 -5.25731112e-01  8.50650808e-01]\n",
            "iter:46 eigen_value:0.38196601125010515 eigen_vector:[ 6.97245593e-20 -5.25731112e-01  8.50650808e-01]\n",
            "iter:47 eigen_value:0.38196601125010515 eigen_vector:[ 2.66324118e-20 -5.25731112e-01  8.50650808e-01]\n",
            "iter:48 eigen_value:0.38196601125010515 eigen_vector:[ 1.01726761e-20 -5.25731112e-01  8.50650808e-01]\n",
            "iter:49 eigen_value:0.38196601125010515 eigen_vector:[ 3.88561652e-21 -5.25731112e-01  8.50650808e-01]\n",
            "iter:50 eigen_value:0.38196601125010515 eigen_vector:[ 1.48417344e-21 -5.25731112e-01  8.50650808e-01]\n",
            "iter:51 eigen_value:0.38196601125010515 eigen_vector:[ 5.66903810e-22 -5.25731112e-01  8.50650808e-01]\n",
            "iter:52 eigen_value:0.38196601125010515 eigen_vector:[ 2.16537987e-22 -5.25731112e-01  8.50650808e-01]\n",
            "iter:53 eigen_value:0.38196601125010515 eigen_vector:[ 8.27101511e-23 -5.25731112e-01  8.50650808e-01]\n",
            "iter:54 eigen_value:0.38196601125010515 eigen_vector:[ 3.15924665e-23 -5.25731112e-01  8.50650808e-01]\n",
            "iter:55 eigen_value:0.38196601125010515 eigen_vector:[ 1.20672484e-23 -5.25731112e-01  8.50650808e-01]\n",
            "iter:56 eigen_value:0.38196601125010515 eigen_vector:[ 4.60927875e-24 -5.25731112e-01  8.50650808e-01]\n",
            "iter:57 eigen_value:0.38196601125010515 eigen_vector:[ 1.76058782e-24 -5.25731112e-01  8.50650808e-01]\n",
            "iter:58 eigen_value:0.38196601125010515 eigen_vector:[ 6.72484706e-25 -5.25731112e-01  8.50650808e-01]\n",
            "iter:59 eigen_value:0.38196601125010515 eigen_vector:[ 2.56866301e-25 -5.25731112e-01  8.50650808e-01]\n",
            "iter:60 eigen_value:0.38196601125010515 eigen_vector:[ 9.81141964e-26 -5.25731112e-01  8.50650808e-01]\n",
            "iter:61 eigen_value:0.38196601125010515 eigen_vector:[ 3.74762882e-26 -5.25731112e-01  8.50650808e-01]\n",
            "iter:62 eigen_value:0.38196601125010515 eigen_vector:[ 1.43146683e-26 -5.25731112e-01  8.50650808e-01]\n",
            "iter:63 eigen_value:0.38196601125010515 eigen_vector:[ 5.46771677e-27 -5.25731112e-01  8.50650808e-01]\n",
            "iter:64 eigen_value:0.38196601125010515 eigen_vector:[ 2.08848196e-27 -5.25731112e-01  8.50650808e-01]\n",
            "iter:65 eigen_value:0.38196601125010515 eigen_vector:[ 7.97729125e-28 -5.25731112e-01  8.50650808e-01]\n",
            "iter:66 eigen_value:0.38196601125010515 eigen_vector:[ 3.04705412e-28 -5.25731112e-01  8.50650808e-01]\n",
            "iter:67 eigen_value:0.38196601125010515 eigen_vector:[ 1.16387111e-28 -5.25731112e-01  8.50650808e-01]\n",
            "iter:68 eigen_value:0.38196601125010515 eigen_vector:[ 4.44559205e-29 -5.25731112e-01  8.50650808e-01]\n",
            "iter:69 eigen_value:0.38196601125010515 eigen_vector:[ 1.69806506e-29 -5.25731112e-01  8.50650808e-01]\n",
            "iter:70 eigen_value:0.38196601125010515 eigen_vector:[ 6.48603139e-30 -5.25731112e-01  8.50650808e-01]\n",
            "iter:71 eigen_value:0.38196601125010515 eigen_vector:[ 2.47744354e-30 -5.25731112e-01  8.50650808e-01]\n",
            "iter:72 eigen_value:0.38196601125010515 eigen_vector:[ 9.46299226e-31 -5.25731112e-01  8.50650808e-01]\n",
            "iter:73 eigen_value:0.38196601125010515 eigen_vector:[ 3.61454141e-31 -5.25731112e-01  8.50650808e-01]\n",
            "iter:74 eigen_value:0.38196601125010515 eigen_vector:[ 1.38063196e-31 -5.25731112e-01  8.50650808e-01]\n",
            "iter:75 eigen_value:0.38196601125010515 eigen_vector:[ 5.27354484e-32 -5.25731112e-01  8.50650808e-01]\n",
            "iter:76 eigen_value:0.38196601125010515 eigen_vector:[ 2.01431489e-32 -5.25731112e-01  8.50650808e-01]\n",
            "iter:77 eigen_value:0.38196601125010515 eigen_vector:[ 7.69399824e-33 -5.25731112e-01  8.50650808e-01]\n",
            "iter:78 eigen_value:0.38196601125010515 eigen_vector:[ 2.93884582e-33 -5.25731112e-01  8.50650808e-01]\n",
            "iter:79 eigen_value:0.38196601125010515 eigen_vector:[ 1.12253921e-33 -5.25731112e-01  8.50650808e-01]\n",
            "iter:80 eigen_value:0.38196601125010515 eigen_vector:[ 4.28771826e-34 -5.25731112e-01  8.50650808e-01]\n",
            "iter:81 eigen_value:0.38196601125010515 eigen_vector:[ 1.63776264e-34 -5.25731112e-01  8.50650808e-01]\n",
            "iter:82 eigen_value:0.38196601125010515 eigen_vector:[ 6.25569664e-35 -5.25731112e-01  8.50650808e-01]\n",
            "iter:83 eigen_value:0.38196601125010515 eigen_vector:[ 2.38946349e-35 -5.25731112e-01  8.50650808e-01]\n",
            "iter:84 eigen_value:0.38196601125010515 eigen_vector:[ 9.12693839e-36 -5.25731112e-01  8.50650808e-01]\n",
            "iter:85 eigen_value:0.38196601125010515 eigen_vector:[ 3.48618025e-36 -5.25731112e-01  8.50650808e-01]\n",
            "iter:86 eigen_value:0.38196601125010515 eigen_vector:[ 1.33160237e-36 -5.25731112e-01  8.50650808e-01]\n",
            "iter:87 eigen_value:0.38196601125010515 eigen_vector:[ 5.08626844e-37 -5.25731112e-01  8.50650808e-01]\n",
            "iter:88 eigen_value:0.38196601125010515 eigen_vector:[ 1.94278167e-37 -5.25731112e-01  8.50650808e-01]\n",
            "iter:89 eigen_value:0.38196601125010515 eigen_vector:[ 7.42076565e-38 -5.25731112e-01  8.50650808e-01]\n",
            "iter:90 eigen_value:0.38196601125010515 eigen_vector:[ 2.83448025e-38 -5.25731112e-01  8.50650808e-01]\n",
            "iter:91 eigen_value:0.38196601125010515 eigen_vector:[ 1.08267512e-38 -5.25731112e-01  8.50650808e-01]\n",
            "iter:92 eigen_value:0.38196601125010515 eigen_vector:[ 4.13545096e-39 -5.25731112e-01  8.50650808e-01]\n",
            "iter:93 eigen_value:0.38196601125010515 eigen_vector:[ 1.57960171e-39 -5.25731112e-01  8.50650808e-01]\n",
            "iter:94 eigen_value:0.38196601125010515 eigen_vector:[ 6.03354163e-40 -5.25731112e-01  8.50650808e-01]\n",
            "iter:95 eigen_value:0.38196601125010515 eigen_vector:[ 2.30460783e-40 -5.25731112e-01  8.50650808e-01]\n",
            "iter:96 eigen_value:0.38196601125010515 eigen_vector:[ 8.80281861e-41 -5.25731112e-01  8.50650808e-01]\n",
            "iter:97 eigen_value:0.38196601125010515 eigen_vector:[ 3.36237751e-41 -5.25731112e-01  8.50650808e-01]\n",
            "iter:98 eigen_value:0.38196601125010515 eigen_vector:[ 1.28431393e-41 -5.25731112e-01  8.50650808e-01]\n",
            "iter:99 eigen_value:0.38196601125010515 eigen_vector:[ 4.90564268e-42 -5.25731112e-01  8.50650808e-01]\n"
          ]
        },
        {
          "output_type": "execute_result",
          "data": {
            "text/plain": [
              "(0.38196601125010515,\n",
              " array([ 4.90564268e-42, -5.25731112e-01,  8.50650808e-01]))"
            ]
          },
          "metadata": {},
          "execution_count": 18
        }
      ]
    }
  ]
}