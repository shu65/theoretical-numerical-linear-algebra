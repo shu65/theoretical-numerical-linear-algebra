{
  "nbformat": 4,
  "nbformat_minor": 0,
  "metadata": {
    "colab": {
      "name": "線形計算の数理 7.2.3 べき乗法　シフト",
      "provenance": [],
      "collapsed_sections": [],
      "authorship_tag": "ABX9TyOcWB6/LUG0Aht0IrzFJXbP",
      "include_colab_link": true
    },
    "kernelspec": {
      "name": "python3",
      "display_name": "Python 3"
    },
    "language_info": {
      "name": "python"
    }
  },
  "cells": [
    {
      "cell_type": "markdown",
      "metadata": {
        "id": "view-in-github",
        "colab_type": "text"
      },
      "source": [
        "<a href=\"https://colab.research.google.com/github/shu65/theoretical-numerical-linear-algebra/blob/main/%E7%B7%9A%E5%BD%A2%E8%A8%88%E7%AE%97%E3%81%AE%E6%95%B0%E7%90%86_7_2_3_%E3%81%B9%E3%81%8D%E4%B9%97%E6%B3%95%E3%80%80%E3%82%B7%E3%83%95%E3%83%88.ipynb\" target=\"_parent\"><img src=\"https://colab.research.google.com/assets/colab-badge.svg\" alt=\"Open In Colab\"/></a>"
      ]
    },
    {
      "cell_type": "code",
      "execution_count": null,
      "metadata": {
        "colab": {
          "base_uri": "https://localhost:8080/"
        },
        "id": "zJ3WWraguyny",
        "outputId": "e93800d5-6b91-4a8b-d78a-d9de2567985e"
      },
      "outputs": [
        {
          "output_type": "execute_result",
          "data": {
            "text/plain": [
              "array([[1., 0., 0.],\n",
              "       [0., 2., 1.],\n",
              "       [0., 1., 1.]])"
            ]
          },
          "metadata": {},
          "execution_count": 1
        }
      ],
      "source": [
        "import numpy as np\n",
        "\n",
        "a_matrix = np.array([\n",
        "    [1., 0., 0.,],\n",
        "    [0., 2., 1.,],\n",
        "    [0., 1., 1.],\n",
        "])\n",
        "a_matrix"
      ]
    },
    {
      "cell_type": "code",
      "source": [
        "np.linalg.eig(a_matrix)"
      ],
      "metadata": {
        "colab": {
          "base_uri": "https://localhost:8080/"
        },
        "id": "4Fv5YCmuvD85",
        "outputId": "da31b0e4-f0e8-4bfc-b5d1-b5a3c990630a"
      },
      "execution_count": null,
      "outputs": [
        {
          "output_type": "execute_result",
          "data": {
            "text/plain": [
              "(array([0.38196601, 2.61803399, 1.        ]),\n",
              " array([[ 0.        ,  0.        ,  1.        ],\n",
              "        [ 0.52573111, -0.85065081,  0.        ],\n",
              "        [-0.85065081, -0.52573111,  0.        ]]))"
            ]
          },
          "metadata": {},
          "execution_count": 2
        }
      ]
    },
    {
      "cell_type": "code",
      "source": [
        "def lu_decompose(a):\n",
        "  n = a.shape[0]\n",
        "  t = a.copy()\n",
        "  for k in range(n):\n",
        "    w = 1/t[k, k]\n",
        "    for i in range(k + 1, n):\n",
        "      t[i, k] = t[i, k]*w\n",
        "      for j in range(k + 1, n):\n",
        "        t[i,j] = t[i,j] - t[i, k] * t[k, j]\n",
        "  l = np.identity(n)\n",
        "  u = np.zeros_like(a)\n",
        "  for i in range(n):\n",
        "    for j in range(n):\n",
        "      if i > j:\n",
        "        l[i, j] = t[i, j]\n",
        "      else:\n",
        "        u[i, j] = t[i, j]\n",
        "  return l, u\n",
        "\n",
        "l, u = lu_decompose(a_matrix)\n",
        "print(\"l\", l)\n",
        "print(\"u\", u)"
      ],
      "metadata": {
        "colab": {
          "base_uri": "https://localhost:8080/"
        },
        "id": "M5IB0P_hvFxM",
        "outputId": "15e5920f-3b4c-40c1-c482-c6d840902541"
      },
      "execution_count": null,
      "outputs": [
        {
          "output_type": "stream",
          "name": "stdout",
          "text": [
            "l [[1.  0.  0. ]\n",
            " [0.  1.  0. ]\n",
            " [0.  0.5 1. ]]\n",
            "u [[1.  0.  0. ]\n",
            " [0.  2.  1. ]\n",
            " [0.  0.  0.5]]\n"
          ]
        }
      ]
    },
    {
      "cell_type": "code",
      "source": [
        "np.testing.assert_almost_equal(a_matrix, l @ u)"
      ],
      "metadata": {
        "id": "QPTZggZAvIEN"
      },
      "execution_count": null,
      "outputs": []
    },
    {
      "cell_type": "code",
      "source": [
        "def l_solve(l, x):\n",
        "  n = len(x)\n",
        "  v = np.zeros(n)\n",
        "  a = l.copy()\n",
        "  b = x.copy()\n",
        "  for i in range(n):\n",
        "    tmp = b[i] / a[i, i]\n",
        "    v[i] = tmp\n",
        "    for j in range(i+1, n):\n",
        "      b[j] -= a[j, i] *  tmp\n",
        "      a[j, i] = 0\n",
        "  return v\n",
        "\n",
        "x = np.ones((a_matrix.shape[1],))/np.sqrt(a_matrix.shape[1]) \n",
        "v = l_solve(l, x)\n",
        "v"
      ],
      "metadata": {
        "colab": {
          "base_uri": "https://localhost:8080/"
        },
        "id": "B5jdqBiZvLIM",
        "outputId": "d9070f21-4529-40c2-8088-3058b14d81d2"
      },
      "execution_count": null,
      "outputs": [
        {
          "output_type": "execute_result",
          "data": {
            "text/plain": [
              "array([0.57735027, 0.57735027, 0.28867513])"
            ]
          },
          "metadata": {},
          "execution_count": 6
        }
      ]
    },
    {
      "cell_type": "code",
      "source": [
        "np.testing.assert_almost_equal(l @ v, x)"
      ],
      "metadata": {
        "id": "3k4TVL8fvNWY"
      },
      "execution_count": null,
      "outputs": []
    },
    {
      "cell_type": "code",
      "source": [
        "def u_solve(u, v):\n",
        "  n = len(v)\n",
        "  y = np.zeros(n)\n",
        "  a = u.copy()\n",
        "  b = v.copy()\n",
        "  for i in reversed(range(n)):\n",
        "    tmp = b[i] / a[i, i]\n",
        "    y[i] = tmp\n",
        "    for j in range(0, i):\n",
        "      b[j] -= a[j, i] *  tmp\n",
        "      a[j, i] = 0\n",
        "    #print(a, b, y)\n",
        "  return y\n",
        "\n",
        "x = np.ones((a_matrix.shape[1],))/np.sqrt(a_matrix.shape[1]) \n",
        "y = u_solve(u, v)\n",
        "y"
      ],
      "metadata": {
        "colab": {
          "base_uri": "https://localhost:8080/"
        },
        "id": "9yPFr80XvPLp",
        "outputId": "316db66f-e433-428d-c64e-7ba337ff1c32"
      },
      "execution_count": null,
      "outputs": [
        {
          "output_type": "execute_result",
          "data": {
            "text/plain": [
              "array([0.57735027, 0.        , 0.57735027])"
            ]
          },
          "metadata": {},
          "execution_count": 8
        }
      ]
    },
    {
      "cell_type": "code",
      "source": [
        "np.testing.assert_almost_equal(u @ y, v)"
      ],
      "metadata": {
        "id": "mrJGKHrWvRMr"
      },
      "execution_count": null,
      "outputs": []
    },
    {
      "cell_type": "code",
      "source": [
        "def shift_inverse_power_method(a, s, max_iterations=100):\n",
        "  n = a.shape[0]\n",
        "  l, u = lu_decompose(a - s*np.identity(n))\n",
        "  eigen_vector = np.ones((a.shape[1],))/np.sqrt(a.shape[1])\n",
        "  print(\"init eigen_vector\", eigen_vector)\n",
        "  for i in range(max_iterations):\n",
        "    v = l_solve(l, eigen_vector)\n",
        "    y = u_solve(u, v)\n",
        "    inversed_eigen_value = np.linalg.norm(y)\n",
        "    eigen_vector = y/inversed_eigen_value\n",
        "    print(f\"iter:{i} eigen_value:{1.0/inversed_eigen_value} eigen_vector:{eigen_vector}\")\n",
        "  \n",
        "  return s + 1.0/inversed_eigen_value, eigen_vector\n",
        "\n",
        "shift_inverse_power_method(a_matrix, s=0.999)"
      ],
      "metadata": {
        "colab": {
          "base_uri": "https://localhost:8080/"
        },
        "id": "MsCjLUG1vTCf",
        "outputId": "2d3605f1-59e4-4808-e588-4005d98458d2"
      },
      "execution_count": null,
      "outputs": [
        {
          "output_type": "stream",
          "name": "stdout",
          "text": [
            "init eigen_vector [0.57735027 0.57735027 0.57735027]\n",
            "iter:0 eigen_value:0.0017320499415415227 eigen_vector:[ 9.9999950e-01  1.0000005e-03 -1.0010015e-06]\n",
            "iter:1 eigen_value:0.0010000005000008758 eigen_vector:[ 1.00000000e+00 -2.00300802e-09  1.00200601e-06]\n",
            "iter:2 eigen_value:0.0010000000000005029 eigen_vector:[ 1.00000000e+00  1.00301203e-09 -1.00601805e-09]\n",
            "iter:3 eigen_value:0.0010000000000000009 eigen_vector:[ 1.00000000e+00 -1.00803010e-12  2.01205016e-12]\n",
            "iter:4 eigen_value:0.0010000000000000009 eigen_vector:[ 1.00000000e+00  2.01507528e-15 -3.02512046e-15]\n",
            "iter:5 eigen_value:0.0010000000000000009 eigen_vector:[ 1.00000000e+00 -3.03016873e-18  5.04827418e-18]\n",
            "iter:6 eigen_value:0.0010000000000000009 eigen_vector:[ 1.00000000e+00  5.05636577e-21 -8.09159087e-21]\n",
            "iter:7 eigen_value:0.0010000000000000009 eigen_vector:[ 1.00000000e+00 -8.10476010e-24  1.31692306e-23]\n",
            "iter:8 eigen_value:0.0010000000000000009 eigen_vector:[ 1.00000000e+00  1.31905391e-26 -2.13084898e-26]\n",
            "iter:9 eigen_value:0.0010000000000000009 eigen_vector:[ 1.00000000e+00 -2.13430447e-29  3.45549268e-29]\n",
            "iter:10 eigen_value:0.0010000000000000009 eigen_vector:[ 1.00000000e+00  3.46109154e-32 -5.59885710e-32]\n",
            "iter:11 eigen_value:0.0010000000000000009 eigen_vector:[ 1.00000000e+00 -5.60793173e-35  9.07463121e-35]\n",
            "iter:12 eigen_value:0.0010000000000000009 eigen_vector:[ 1.00000000e+00  9.08933757e-38 -1.47063586e-37]\n",
            "iter:13 eigen_value:0.0010000000000000009 eigen_vector:[ 1.00000000e+00 -1.47301929e-40  2.38342607e-40]\n",
            "iter:14 eigen_value:0.0010000000000000009 eigen_vector:[ 1.00000000e+00  2.38728876e-43 -3.86269534e-43]\n",
            "iter:15 eigen_value:0.0010000000000000009 eigen_vector:[ 1.00000000e+00 -3.86895545e-46  6.26011317e-46]\n",
            "iter:16 eigen_value:0.0010000000000000009 eigen_vector:[ 1.00000000e+00  6.27025865e-49 -1.01454844e-48]\n",
            "iter:17 eigen_value:0.0010000000000000009 eigen_vector:[ 1.00000000e+00 -1.01619267e-51  1.64423473e-51]\n",
            "iter:18 eigen_value:0.0010000000000000009 eigen_vector:[ 1.00000000e+00  1.64689947e-54 -2.66473904e-54]\n",
            "iter:19 eigen_value:0.0010000000000000009 eigen_vector:[ 1.00000000e+00 -2.66905766e-57  4.31862619e-57]\n",
            "iter:20 eigen_value:0.0010000000000000009 eigen_vector:[ 1.00000000e+00  4.32562520e-60 -6.99900849e-60]\n",
            "iter:21 eigen_value:0.0010000000000000009 eigen_vector:[ 1.00000000e+00 -7.01035148e-63  1.13429870e-62]\n",
            "iter:22 eigen_value:0.0010000000000000009 eigen_vector:[ 1.00000000e+00  1.13613701e-65 -1.83830830e-65]\n",
            "iter:23 eigen_value:0.0010000000000000009 eigen_vector:[ 1.00000000e+00 -1.84128756e-68  2.97926586e-68]\n",
            "iter:24 eigen_value:0.0010000000000000009 eigen_vector:[ 1.00000000e+00  2.98409423e-71 -4.82836588e-71]\n",
            "iter:25 eigen_value:0.0010000000000000009 eigen_vector:[ 1.00000000e+00 -4.83619100e-74  7.82512142e-74]\n",
            "iter:26 eigen_value:0.0010000000000000009 eigen_vector:[ 1.00000000e+00  7.83780325e-77 -1.26818321e-76]\n",
            "iter:27 eigen_value:0.0010000000000000009 eigen_vector:[ 1.00000000e+00 -1.27023849e-79  2.05528906e-79]\n",
            "iter:28 eigen_value:0.0010000000000000009 eigen_vector:[ 1.00000000e+00  2.05861998e-82 -3.33091709e-82]\n",
            "iter:29 eigen_value:0.0010000000000000009 eigen_vector:[ 1.00000000e+00 -3.33631536e-85  5.39827165e-85]\n",
            "iter:30 eigen_value:0.0010000000000000009 eigen_vector:[ 1.00000000e+00  5.40702040e-88 -8.74874278e-88]\n",
            "iter:31 eigen_value:0.0010000000000000009 eigen_vector:[ 1.00000000e+00 -8.76292148e-91  1.41787048e-90]\n",
            "iter:32 eigen_value:0.0010000000000000009 eigen_vector:[ 1.00000000e+00  1.42016836e-93 -2.29788068e-93]\n",
            "iter:33 eigen_value:0.0010000000000000009 eigen_vector:[ 1.00000000e+00 -2.30160475e-96  3.72407472e-96]\n",
            "iter:34 eigen_value:0.0010000000000000009 eigen_vector:[ 1.00000000e+00  3.73011016e-99 -6.03544503e-99]\n",
            "iter:35 eigen_value:0.0010000000000000009 eigen_vector:[ 1.00000000e+000 -6.04522641e-102  9.78138180e-102]\n",
            "iter:36 eigen_value:0.0010000000000000009 eigen_vector:[ 1.00000000e+000  9.79723405e-105 -1.58522577e-104]\n",
            "iter:37 eigen_value:0.0010000000000000009 eigen_vector:[ 1.00000000e+000 -1.58779488e-107  2.56910608e-107]\n",
            "iter:38 eigen_value:0.0010000000000000009 eigen_vector:[ 1.00000000e+000  2.57326971e-110 -4.16363786e-110]\n",
            "iter:39 eigen_value:0.0010000000000000009 eigen_vector:[ 1.00000000e+000 -4.17038568e-113  6.74782578e-113]\n",
            "iter:40 eigen_value:0.0010000000000000009 eigen_vector:[ 1.00000000e+000  6.75876169e-116 -1.09359061e-115]\n",
            "iter:41 eigen_value:0.0010000000000000009 eigen_vector:[ 1.00000000e+000 -1.09536295e-118  1.77233448e-118]\n",
            "iter:42 eigen_value:0.0010000000000000009 eigen_vector:[ 1.00000000e+000  1.77520683e-121 -2.87234498e-121]\n",
            "iter:43 eigen_value:0.0010000000000000009 eigen_vector:[ 1.00000000e+000 -2.87700006e-124  4.65508389e-124]\n",
            "iter:44 eigen_value:0.0010000000000000009 eigen_vector:[ 1.00000000e+000  4.66262818e-127 -7.54429087e-127]\n",
            "iter:45 eigen_value:0.0010000000000000009 eigen_vector:[ 1.00000000e+000 -7.55651757e-130  1.22267023e-129]\n",
            "iter:46 eigen_value:0.0010000000000000009 eigen_vector:[ 1.00000000e+000  1.22465176e-132 -1.98152816e-132]\n",
            "iter:47 eigen_value:0.0010000000000000009 eigen_vector:[ 1.00000000e+000 -1.98473954e-135  3.21137604e-135]\n",
            "iter:48 eigen_value:0.0010000000000000009 eigen_vector:[ 1.00000000e+000  3.21658057e-138 -5.20453669e-138]\n",
            "iter:49 eigen_value:0.0010000000000000009 eigen_vector:[ 1.00000000e+000 -5.21297146e-141  8.43476500e-141]\n",
            "iter:50 eigen_value:0.0010000000000000009 eigen_vector:[ 1.00000000e+000  8.44843486e-144 -1.36698547e-143]\n",
            "iter:51 eigen_value:0.0010000000000000009 eigen_vector:[ 1.00000000e+000 -1.36920089e-146  2.21541358e-146]\n",
            "iter:52 eigen_value:0.0010000000000000009 eigen_vector:[ 1.00000000e+000  2.21900400e-149 -3.59042389e-149]\n",
            "iter:53 eigen_value:0.0010000000000000009 eigen_vector:[ 1.00000000e+000 -3.59624273e-152  5.81884298e-152]\n",
            "iter:54 eigen_value:0.0010000000000000009 eigen_vector:[ 1.00000000e+000  5.82827332e-155 -9.43034433e-155]\n",
            "iter:55 eigen_value:0.0010000000000000009 eigen_vector:[ 1.00000000e+000 -9.44562768e-158  1.52833466e-157]\n",
            "iter:56 eigen_value:0.0010000000000000009 eigen_vector:[ 1.00000000e+000  1.53081157e-160 -2.47690515e-160]\n",
            "iter:57 eigen_value:0.0010000000000000009 eigen_vector:[ 1.00000000e+000 -2.48091936e-163  4.01421185e-163]\n",
            "iter:58 eigen_value:0.0010000000000000009 eigen_vector:[ 1.00000000e+000  4.02071750e-166 -6.50565758e-166]\n",
            "iter:59 eigen_value:0.0010000000000000009 eigen_vector:[ 1.00000000e+000 -6.51620101e-169  1.05434347e-168]\n",
            "iter:60 eigen_value:0.0010000000000000009 eigen_vector:[ 1.00000000e+000  1.05605220e-171 -1.70872835e-171]\n",
            "iter:61 eigen_value:0.0010000000000000009 eigen_vector:[ 1.00000000e+000 -1.71149761e-174  2.76926131e-174]\n",
            "iter:62 eigen_value:0.0010000000000000009 eigen_vector:[ 1.00000000e+000  2.77374933e-177 -4.48802070e-177]\n",
            "iter:63 eigen_value:0.0010000000000000009 eigen_vector:[ 1.00000000e+000 -4.49529424e-180  7.27353886e-180]\n",
            "iter:64 eigen_value:0.0010000000000000009 eigen_vector:[ 1.00000000e+000  7.28532677e-183 -1.17879063e-182]\n",
            "iter:65 eigen_value:0.0010000000000000009 eigen_vector:[ 1.00000000e+000 -1.18070105e-185  1.91041443e-185]\n",
            "iter:66 eigen_value:0.0010000000000000009 eigen_vector:[ 1.00000000e+000  1.91351055e-188 -3.09612511e-188]\n",
            "iter:67 eigen_value:0.0010000000000000009 eigen_vector:[ 1.00000000e+000 -3.10114286e-191  5.01775456e-191]\n",
            "iter:68 eigen_value:0.0010000000000000009 eigen_vector:[ 1.00000000e+000  5.02588661e-194 -8.13205536e-194]\n",
            "iter:69 eigen_value:0.0010000000000000009 eigen_vector:[ 1.00000000e+000 -8.14523463e-197  1.31792665e-196]\n",
            "iter:70 eigen_value:0.0010000000000000009 eigen_vector:[ 1.00000000e+000  1.32006255e-199 -2.13590608e-199]\n",
            "iter:71 eigen_value:0.0010000000000000009 eigen_vector:[ 1.00000000e+000 -2.13936765e-202  3.46156957e-202]\n",
            "iter:72 eigen_value:0.0010000000000000009 eigen_vector:[ 1.00000000e+000  3.46717958e-205 -5.61001441e-205]\n",
            "iter:73 eigen_value:0.0010000000000000009 eigen_vector:[ 1.00000000e+000 -5.61910632e-208  9.09190501e-208]\n",
            "iter:74 eigen_value:0.0010000000000000009 eigen_vector:[ 1.00000000e+000  9.10663986e-211 -1.47348528e-210]\n",
            "iter:75 eigen_value:0.0010000000000000009 eigen_vector:[ 1.00000000e+000 -1.47587330e-213  2.38801315e-213]\n",
            "iter:76 eigen_value:0.0010000000000000009 eigen_vector:[ 1.00000000e+000  2.39188330e-216 -3.87014848e-216]\n",
            "iter:77 eigen_value:0.0010000000000000009 eigen_vector:[ 1.00000000e+000 -3.87642066e-219  6.27218039e-219]\n",
            "iter:78 eigen_value:0.0010000000000000009 eigen_vector:[ 1.00000000e+000  6.28234543e-222 -1.01650484e-221]\n",
            "iter:79 eigen_value:0.0010000000000000009 eigen_vector:[ 1.00000000e+000 -1.01815225e-224  1.64740494e-224]\n",
            "iter:80 eigen_value:0.0010000000000000009 eigen_vector:[ 1.00000000e+000  1.65007482e-227 -2.66987715e-227]\n",
            "iter:81 eigen_value:0.0010000000000000009 eigen_vector:[ 1.00000000e+000 -2.67420410e-230  4.32695313e-230]\n",
            "iter:82 eigen_value:0.0010000000000000009 eigen_vector:[ 1.00000000e+000  4.33396563e-233 -7.01250369e-233]\n",
            "iter:83 eigen_value:0.0010000000000000009 eigen_vector:[ 1.00000000e+000 -7.02386855e-236  1.13648580e-235]\n",
            "iter:84 eigen_value:0.0010000000000000009 eigen_vector:[ 1.00000000e+000  1.13832766e-238 -1.84185284e-238]\n",
            "iter:85 eigen_value:0.0010000000000000009 eigen_vector:[ 1.00000000e+000 -1.84483785e-241  2.98501035e-241]\n",
            "iter:86 eigen_value:0.0010000000000000009 eigen_vector:[ 1.00000000e+000  2.98984802e-244 -4.83767572e-244]\n",
            "iter:87 eigen_value:0.0010000000000000009 eigen_vector:[ 1.00000000e+000 -4.84551593e-247  7.84020947e-247]\n",
            "iter:88 eigen_value:0.0010000000000000009 eigen_vector:[ 1.00000000e+000  7.85291575e-250 -1.27062846e-249]\n",
            "iter:89 eigen_value:0.0010000000000000009 eigen_vector:[ 1.00000000e+000 -1.27268771e-252  2.05925198e-252]\n",
            "iter:90 eigen_value:0.0010000000000000009 eigen_vector:[ 1.00000000e+000  2.06258931e-255 -3.33733962e-255]\n",
            "iter:91 eigen_value:0.0010000000000000009 eigen_vector:[ 1.00000000e+000 -3.34274830e-258  5.40868036e-258]\n",
            "iter:92 eigen_value:0.0010000000000000009 eigen_vector:[ 1.00000000e+000  5.41744597e-261 -8.76561171e-261]\n",
            "iter:93 eigen_value:0.0010000000000000009 eigen_vector:[ 1.00000000e+000 -8.77981776e-264  1.42060435e-263]\n",
            "iter:94 eigen_value:0.0010000000000000009 eigen_vector:[ 1.00000000e+000  1.42290667e-266 -2.30231135e-266]\n",
            "iter:95 eigen_value:0.0010000000000000009 eigen_vector:[ 1.00000000e+000 -2.30604260e-269  3.73125531e-269]\n",
            "iter:96 eigen_value:0.0010000000000000009 eigen_vector:[ 1.00000000e+000  3.73730239e-272 -6.04708230e-272]\n",
            "iter:97 eigen_value:0.0010000000000000009 eigen_vector:[ 1.00000000e+000 -6.05688254e-275  9.80024182e-275]\n",
            "iter:98 eigen_value:0.0010000000000000009 eigen_vector:[ 1.00000000e+000  9.81612464e-278 -1.58828233e-277]\n",
            "iter:99 eigen_value:0.0010000000000000009 eigen_vector:[ 1.00000000e+000 -1.59085639e-280  2.57405971e-280]\n"
          ]
        },
        {
          "output_type": "execute_result",
          "data": {
            "text/plain": [
              "(1.0, array([ 1.00000000e+000, -1.59085639e-280,  2.57405971e-280]))"
            ]
          },
          "metadata": {},
          "execution_count": 13
        }
      ]
    }
  ]
}