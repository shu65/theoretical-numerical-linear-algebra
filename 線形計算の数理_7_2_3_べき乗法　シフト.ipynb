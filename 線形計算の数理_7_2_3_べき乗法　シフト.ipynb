{
  "nbformat": 4,
  "nbformat_minor": 0,
  "metadata": {
    "colab": {
      "name": "線形計算の数理 7.2.3 べき乗法　シフト",
      "provenance": [],
      "collapsed_sections": [],
      "authorship_tag": "ABX9TyNhuBVgdDAUpgLVtXCScF7n",
      "include_colab_link": true
    },
    "kernelspec": {
      "name": "python3",
      "display_name": "Python 3"
    },
    "language_info": {
      "name": "python"
    }
  },
  "cells": [
    {
      "cell_type": "markdown",
      "metadata": {
        "id": "view-in-github",
        "colab_type": "text"
      },
      "source": [
        "<a href=\"https://colab.research.google.com/github/shu65/theoretical-numerical-linear-algebra/blob/main/%E7%B7%9A%E5%BD%A2%E8%A8%88%E7%AE%97%E3%81%AE%E6%95%B0%E7%90%86_7_2_3_%E3%81%B9%E3%81%8D%E4%B9%97%E6%B3%95%E3%80%80%E3%82%B7%E3%83%95%E3%83%88.ipynb\" target=\"_parent\"><img src=\"https://colab.research.google.com/assets/colab-badge.svg\" alt=\"Open In Colab\"/></a>"
      ]
    },
    {
      "cell_type": "code",
      "execution_count": 1,
      "metadata": {
        "colab": {
          "base_uri": "https://localhost:8080/"
        },
        "id": "zJ3WWraguyny",
        "outputId": "88651c4d-0193-4df2-fc03-88a5deaabe11"
      },
      "outputs": [
        {
          "output_type": "execute_result",
          "data": {
            "text/plain": [
              "array([[1, 0],\n",
              "       [0, 2]])"
            ]
          },
          "metadata": {},
          "execution_count": 1
        }
      ],
      "source": [
        "import numpy as np\n",
        "\n",
        "a_matrix = np.array(\n",
        "    [[1, 0],\n",
        "     [0, 2]]\n",
        "     )\n",
        "a_matrix"
      ]
    },
    {
      "cell_type": "code",
      "source": [
        "np.linalg.eig(a_matrix)"
      ],
      "metadata": {
        "colab": {
          "base_uri": "https://localhost:8080/"
        },
        "id": "4Fv5YCmuvD85",
        "outputId": "2b922899-29da-4e77-9ce3-1855a4ef5ee6"
      },
      "execution_count": 2,
      "outputs": [
        {
          "output_type": "execute_result",
          "data": {
            "text/plain": [
              "(array([1., 2.]), array([[1., 0.],\n",
              "        [0., 1.]]))"
            ]
          },
          "metadata": {},
          "execution_count": 2
        }
      ]
    },
    {
      "cell_type": "code",
      "source": [
        "def lu_decompose(a):\n",
        "  n = a.shape[0]\n",
        "  l = a.copy()\n",
        "  u = np.identity(n)\n",
        "  for i in range(n):\n",
        "    for j in range(i + 1, n):\n",
        "      u[j][i] = l[j][i]/l[i][i]\n",
        "      for k in range(i + 1, n):\n",
        "        l[j][k] -= u[j][i] * l[i][k]\n",
        "    return l, u\n",
        "\n",
        "l, u = lu_decompose(a_matrix)\n",
        "print(\"l\", l)\n",
        "print(\"u\", u)"
      ],
      "metadata": {
        "colab": {
          "base_uri": "https://localhost:8080/"
        },
        "id": "M5IB0P_hvFxM",
        "outputId": "dc4001f4-89e2-49ca-e84f-9404762a7568"
      },
      "execution_count": 3,
      "outputs": [
        {
          "output_type": "stream",
          "name": "stdout",
          "text": [
            "l [[1 0]\n",
            " [0 2]]\n",
            "u [[1. 0.]\n",
            " [0. 1.]]\n"
          ]
        }
      ]
    },
    {
      "cell_type": "code",
      "source": [
        "np.testing.assert_almost_equal(a_matrix, l @ u)"
      ],
      "metadata": {
        "id": "QPTZggZAvIEN"
      },
      "execution_count": 4,
      "outputs": []
    },
    {
      "cell_type": "code",
      "source": [
        "def l_solve(l, x):\n",
        "  n = len(x)\n",
        "  v = np.zeros(n)\n",
        "  a = l.copy()\n",
        "  b = x.copy()\n",
        "  for i in range(n):\n",
        "    tmp = b[i] / a[i, i]\n",
        "    v[i] = tmp\n",
        "    for j in range(i+1, n):\n",
        "      b[j] -= a[j, i] *  tmp\n",
        "      a[j, i] = 0\n",
        "  return v\n",
        "\n",
        "x = np.ones((a_matrix.shape[1],))/np.sqrt(a_matrix.shape[1]) \n",
        "v = l_solve(l, x)\n",
        "v"
      ],
      "metadata": {
        "colab": {
          "base_uri": "https://localhost:8080/"
        },
        "id": "B5jdqBiZvLIM",
        "outputId": "635dee06-cd77-4214-fc04-56f924123517"
      },
      "execution_count": 5,
      "outputs": [
        {
          "output_type": "execute_result",
          "data": {
            "text/plain": [
              "array([0.70710678, 0.35355339])"
            ]
          },
          "metadata": {},
          "execution_count": 5
        }
      ]
    },
    {
      "cell_type": "code",
      "source": [
        "np.testing.assert_almost_equal(l @ v, x)"
      ],
      "metadata": {
        "id": "3k4TVL8fvNWY"
      },
      "execution_count": 6,
      "outputs": []
    },
    {
      "cell_type": "code",
      "source": [
        "def u_solve(u, v):\n",
        "  n = len(v)\n",
        "  y = np.zeros(n)\n",
        "  a = u.copy()\n",
        "  b = v.copy()\n",
        "  for i in reversed(range(n)):\n",
        "    tmp = b[i] / a[i, i]\n",
        "    v[i] = tmp\n",
        "    for j in range(i+1, n):\n",
        "      b[j] -= a[j, i] *  tmp\n",
        "      a[j, i] = 0\n",
        "  return v\n",
        "\n",
        "x = np.ones((a_matrix.shape[1],))/np.sqrt(a_matrix.shape[1]) \n",
        "y = u_solve(u, v)\n",
        "y"
      ],
      "metadata": {
        "colab": {
          "base_uri": "https://localhost:8080/"
        },
        "id": "9yPFr80XvPLp",
        "outputId": "a9d329de-9b37-4cbc-dabf-9b48b27c9272"
      },
      "execution_count": 7,
      "outputs": [
        {
          "output_type": "execute_result",
          "data": {
            "text/plain": [
              "array([0.70710678, 0.35355339])"
            ]
          },
          "metadata": {},
          "execution_count": 7
        }
      ]
    },
    {
      "cell_type": "code",
      "source": [
        "np.testing.assert_almost_equal(u @ y, v)"
      ],
      "metadata": {
        "id": "mrJGKHrWvRMr"
      },
      "execution_count": 8,
      "outputs": []
    },
    {
      "cell_type": "code",
      "source": [
        "def shift_inverse_power_method(a, s, max_iterations=100):\n",
        "  n = a.shape[0]\n",
        "  l, u = lu_decompose(a - s*np.identity(n))\n",
        "  eigen_vector = np.ones((a.shape[1],))/np.sqrt(a.shape[1])\n",
        "  print(\"init eigen_vector\", eigen_vector)\n",
        "  for i in range(max_iterations):\n",
        "    v = l_solve(l, eigen_vector)\n",
        "    y = u_solve(u, v)\n",
        "    inversed_eigen_value = np.linalg.norm(y)\n",
        "    eigen_vector = y/inversed_eigen_value\n",
        "    print(f\"iter:{i} eigen_value:{1.0/inversed_eigen_value} eigen_vector:{eigen_vector}\")\n",
        "  return s + 1.0/inversed_eigen_value, eigen_vector\n",
        "\n",
        "shift_inverse_power_method(a_matrix, s=0.99)"
      ],
      "metadata": {
        "colab": {
          "base_uri": "https://localhost:8080/"
        },
        "id": "MsCjLUG1vTCf",
        "outputId": "2e12c85e-d67c-4dec-e548-5840553f919f"
      },
      "execution_count": 24,
      "outputs": [
        {
          "output_type": "stream",
          "name": "stdout",
          "text": [
            "init eigen_vector [0.70710678 0.70710678]\n",
            "iter:0 eigen_value:0.014141442500706375 eigen_vector:[0.99995099 0.0099005 ]\n",
            "iter:1 eigen_value:0.010000490087961673 eigen_vector:[9.99999995e-01 9.80296045e-05]\n",
            "iter:2 eigen_value:0.010000000048044315 eigen_vector:[1.00000000e+00 9.70590148e-07]\n",
            "iter:3 eigen_value:0.010000000000004719 eigen_vector:[1.00000000e+00 9.60980344e-09]\n",
            "iter:4 eigen_value:0.01000000000000001 eigen_vector:[1.00000000e+00 9.51465688e-11]\n",
            "iter:5 eigen_value:0.010000000000000009 eigen_vector:[1.00000000e+00 9.42045235e-13]\n",
            "iter:6 eigen_value:0.010000000000000009 eigen_vector:[1.00000000e+00 9.32718055e-15]\n",
            "iter:7 eigen_value:0.010000000000000009 eigen_vector:[1.00000000e+00 9.23483222e-17]\n",
            "iter:8 eigen_value:0.010000000000000009 eigen_vector:[1.00000000e+00 9.14339824e-19]\n",
            "iter:9 eigen_value:0.010000000000000009 eigen_vector:[1.00000000e+00 9.05286955e-21]\n",
            "iter:10 eigen_value:0.010000000000000009 eigen_vector:[1.00000000e+00 8.96323718e-23]\n",
            "iter:11 eigen_value:0.010000000000000009 eigen_vector:[1.00000000e+00 8.87449225e-25]\n",
            "iter:12 eigen_value:0.010000000000000009 eigen_vector:[1.00000000e+00 8.78662599e-27]\n",
            "iter:13 eigen_value:0.010000000000000009 eigen_vector:[1.0000000e+00 8.6996297e-29]\n",
            "iter:14 eigen_value:0.010000000000000009 eigen_vector:[1.00000000e+00 8.61349475e-31]\n",
            "iter:15 eigen_value:0.010000000000000009 eigen_vector:[1.00000000e+00 8.52821262e-33]\n",
            "iter:16 eigen_value:0.010000000000000009 eigen_vector:[1.00000000e+00 8.44377487e-35]\n",
            "iter:17 eigen_value:0.010000000000000009 eigen_vector:[1.00000000e+00 8.36017314e-37]\n",
            "iter:18 eigen_value:0.010000000000000009 eigen_vector:[1.00000000e+00 8.27739915e-39]\n",
            "iter:19 eigen_value:0.010000000000000009 eigen_vector:[1.0000000e+00 8.1954447e-41]\n",
            "iter:20 eigen_value:0.010000000000000009 eigen_vector:[1.00000000e+00 8.11430169e-43]\n",
            "iter:21 eigen_value:0.010000000000000009 eigen_vector:[1.00000000e+00 8.03396207e-45]\n",
            "iter:22 eigen_value:0.010000000000000009 eigen_vector:[1.00000000e+00 7.95441789e-47]\n",
            "iter:23 eigen_value:0.010000000000000009 eigen_vector:[1.00000000e+00 7.87566127e-49]\n",
            "iter:24 eigen_value:0.010000000000000009 eigen_vector:[1.00000000e+00 7.79768443e-51]\n",
            "iter:25 eigen_value:0.010000000000000009 eigen_vector:[1.00000000e+00 7.72047963e-53]\n",
            "iter:26 eigen_value:0.010000000000000009 eigen_vector:[1.00000000e+00 7.64403924e-55]\n",
            "iter:27 eigen_value:0.010000000000000009 eigen_vector:[1.00000000e+00 7.56835568e-57]\n",
            "iter:28 eigen_value:0.010000000000000009 eigen_vector:[1.00000000e+00 7.49342147e-59]\n",
            "iter:29 eigen_value:0.010000000000000009 eigen_vector:[1.00000000e+00 7.41922918e-61]\n",
            "iter:30 eigen_value:0.010000000000000009 eigen_vector:[1.00000000e+00 7.34577146e-63]\n",
            "iter:31 eigen_value:0.010000000000000009 eigen_vector:[1.00000000e+00 7.27304105e-65]\n",
            "iter:32 eigen_value:0.010000000000000009 eigen_vector:[1.00000000e+00 7.20103075e-67]\n",
            "iter:33 eigen_value:0.010000000000000009 eigen_vector:[1.00000000e+00 7.12973341e-69]\n",
            "iter:34 eigen_value:0.010000000000000009 eigen_vector:[1.00000000e+00 7.05914199e-71]\n",
            "iter:35 eigen_value:0.010000000000000009 eigen_vector:[1.0000000e+00 6.9892495e-73]\n",
            "iter:36 eigen_value:0.010000000000000009 eigen_vector:[1.00000000e+00 6.92004901e-75]\n",
            "iter:37 eigen_value:0.010000000000000009 eigen_vector:[1.00000000e+00 6.85153367e-77]\n",
            "iter:38 eigen_value:0.010000000000000009 eigen_vector:[1.0000000e+00 6.7836967e-79]\n",
            "iter:39 eigen_value:0.010000000000000009 eigen_vector:[1.00000000e+00 6.71653139e-81]\n",
            "iter:40 eigen_value:0.010000000000000009 eigen_vector:[1.00000000e+00 6.65003108e-83]\n",
            "iter:41 eigen_value:0.010000000000000009 eigen_vector:[1.00000000e+00 6.58418919e-85]\n",
            "iter:42 eigen_value:0.010000000000000009 eigen_vector:[1.00000000e+00 6.51899919e-87]\n",
            "iter:43 eigen_value:0.010000000000000009 eigen_vector:[1.00000000e+00 6.45445465e-89]\n",
            "iter:44 eigen_value:0.010000000000000009 eigen_vector:[1.00000000e+00 6.39054916e-91]\n",
            "iter:45 eigen_value:0.010000000000000009 eigen_vector:[1.00000000e+00 6.32727639e-93]\n",
            "iter:46 eigen_value:0.010000000000000009 eigen_vector:[1.00000000e+00 6.26463009e-95]\n",
            "iter:47 eigen_value:0.010000000000000009 eigen_vector:[1.00000000e+00 6.20260405e-97]\n",
            "iter:48 eigen_value:0.010000000000000009 eigen_vector:[1.00000000e+00 6.14119213e-99]\n",
            "iter:49 eigen_value:0.010000000000000009 eigen_vector:[1.00000000e+000 6.08038825e-101]\n",
            "iter:50 eigen_value:0.010000000000000009 eigen_vector:[1.00000000e+000 6.02018638e-103]\n",
            "iter:51 eigen_value:0.010000000000000009 eigen_vector:[1.00000000e+000 5.96058058e-105]\n",
            "iter:52 eigen_value:0.010000000000000009 eigen_vector:[1.00000000e+000 5.90156493e-107]\n",
            "iter:53 eigen_value:0.010000000000000009 eigen_vector:[1.00000000e+000 5.84313359e-109]\n",
            "iter:54 eigen_value:0.010000000000000009 eigen_vector:[1.00000000e+000 5.78528078e-111]\n",
            "iter:55 eigen_value:0.010000000000000009 eigen_vector:[1.00000000e+000 5.72800078e-113]\n",
            "iter:56 eigen_value:0.010000000000000009 eigen_vector:[1.0000000e+000 5.6712879e-115]\n",
            "iter:57 eigen_value:0.010000000000000009 eigen_vector:[1.00000000e+000 5.61513653e-117]\n",
            "iter:58 eigen_value:0.010000000000000009 eigen_vector:[1.00000000e+000 5.55954112e-119]\n",
            "iter:59 eigen_value:0.010000000000000009 eigen_vector:[1.00000000e+000 5.50449616e-121]\n",
            "iter:60 eigen_value:0.010000000000000009 eigen_vector:[1.0000000e+000 5.4499962e-123]\n",
            "iter:61 eigen_value:0.010000000000000009 eigen_vector:[1.00000000e+000 5.39603584e-125]\n",
            "iter:62 eigen_value:0.010000000000000009 eigen_vector:[1.00000000e+000 5.34260974e-127]\n",
            "iter:63 eigen_value:0.010000000000000009 eigen_vector:[1.00000000e+000 5.28971262e-129]\n",
            "iter:64 eigen_value:0.010000000000000009 eigen_vector:[1.00000000e+000 5.23733922e-131]\n",
            "iter:65 eigen_value:0.010000000000000009 eigen_vector:[1.00000000e+000 5.18548438e-133]\n",
            "iter:66 eigen_value:0.010000000000000009 eigen_vector:[1.00000000e+000 5.13414295e-135]\n",
            "iter:67 eigen_value:0.010000000000000009 eigen_vector:[1.00000000e+000 5.08330985e-137]\n",
            "iter:68 eigen_value:0.010000000000000009 eigen_vector:[1.00000000e+000 5.03298005e-139]\n",
            "iter:69 eigen_value:0.010000000000000009 eigen_vector:[1.00000000e+000 4.98314857e-141]\n",
            "iter:70 eigen_value:0.010000000000000009 eigen_vector:[1.00000000e+000 4.93381046e-143]\n",
            "iter:71 eigen_value:0.010000000000000009 eigen_vector:[1.00000000e+000 4.88496085e-145]\n",
            "iter:72 eigen_value:0.010000000000000009 eigen_vector:[1.0000000e+000 4.8365949e-147]\n",
            "iter:73 eigen_value:0.010000000000000009 eigen_vector:[1.00000000e+000 4.78870782e-149]\n",
            "iter:74 eigen_value:0.010000000000000009 eigen_vector:[1.00000000e+000 4.74129488e-151]\n",
            "iter:75 eigen_value:0.010000000000000009 eigen_vector:[1.00000000e+000 4.69435136e-153]\n",
            "iter:76 eigen_value:0.010000000000000009 eigen_vector:[1.00000000e+000 4.64787264e-155]\n",
            "iter:77 eigen_value:0.010000000000000009 eigen_vector:[1.0000000e+000 4.6018541e-157]\n",
            "iter:78 eigen_value:0.010000000000000009 eigen_vector:[1.00000000e+000 4.55629118e-159]\n",
            "iter:79 eigen_value:0.010000000000000009 eigen_vector:[1.00000000e+000 4.51117939e-161]\n",
            "iter:80 eigen_value:0.010000000000000009 eigen_vector:[1.00000000e+000 4.46651425e-163]\n",
            "iter:81 eigen_value:0.010000000000000009 eigen_vector:[1.00000000e+000 4.42229133e-165]\n",
            "iter:82 eigen_value:0.010000000000000009 eigen_vector:[1.00000000e+000 4.37850627e-167]\n",
            "iter:83 eigen_value:0.010000000000000009 eigen_vector:[1.00000000e+000 4.33515472e-169]\n",
            "iter:84 eigen_value:0.010000000000000009 eigen_vector:[1.0000000e+000 4.2922324e-171]\n",
            "iter:85 eigen_value:0.010000000000000009 eigen_vector:[1.00000000e+000 4.24973505e-173]\n",
            "iter:86 eigen_value:0.010000000000000009 eigen_vector:[1.00000000e+000 4.20765846e-175]\n",
            "iter:87 eigen_value:0.010000000000000009 eigen_vector:[1.00000000e+000 4.16599848e-177]\n",
            "iter:88 eigen_value:0.010000000000000009 eigen_vector:[1.00000000e+000 4.12475097e-179]\n",
            "iter:89 eigen_value:0.010000000000000009 eigen_vector:[1.00000000e+000 4.08391185e-181]\n",
            "iter:90 eigen_value:0.010000000000000009 eigen_vector:[1.00000000e+000 4.04347708e-183]\n",
            "iter:91 eigen_value:0.010000000000000009 eigen_vector:[1.00000000e+000 4.00344265e-185]\n",
            "iter:92 eigen_value:0.010000000000000009 eigen_vector:[1.00000000e+000 3.96380461e-187]\n",
            "iter:93 eigen_value:0.010000000000000009 eigen_vector:[1.00000000e+000 3.92455902e-189]\n",
            "iter:94 eigen_value:0.010000000000000009 eigen_vector:[1.000000e+000 3.885702e-191]\n",
            "iter:95 eigen_value:0.010000000000000009 eigen_vector:[1.0000000e+000 3.8472297e-193]\n",
            "iter:96 eigen_value:0.010000000000000009 eigen_vector:[1.00000000e+000 3.80913832e-195]\n",
            "iter:97 eigen_value:0.010000000000000009 eigen_vector:[1.00000000e+000 3.77142408e-197]\n",
            "iter:98 eigen_value:0.010000000000000009 eigen_vector:[1.00000000e+000 3.73408324e-199]\n",
            "iter:99 eigen_value:0.010000000000000009 eigen_vector:[1.00000000e+000 3.69711212e-201]\n"
          ]
        },
        {
          "output_type": "execute_result",
          "data": {
            "text/plain": [
              "(1.0, array([1.00000000e+000, 3.69711212e-201]))"
            ]
          },
          "metadata": {},
          "execution_count": 24
        }
      ]
    }
  ]
}