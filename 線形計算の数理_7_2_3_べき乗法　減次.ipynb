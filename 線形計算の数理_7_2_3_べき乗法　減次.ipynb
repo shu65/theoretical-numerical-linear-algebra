{
  "nbformat": 4,
  "nbformat_minor": 0,
  "metadata": {
    "colab": {
      "name": "線形計算の数理 7.2.3 べき乗法　減次",
      "provenance": [],
      "collapsed_sections": [],
      "authorship_tag": "ABX9TyP4awXOWJcxaF4kh5zfPnjk",
      "include_colab_link": true
    },
    "kernelspec": {
      "name": "python3",
      "display_name": "Python 3"
    },
    "language_info": {
      "name": "python"
    }
  },
  "cells": [
    {
      "cell_type": "markdown",
      "metadata": {
        "id": "view-in-github",
        "colab_type": "text"
      },
      "source": [
        "<a href=\"https://colab.research.google.com/github/shu65/theoretical-numerical-linear-algebra/blob/main/%E7%B7%9A%E5%BD%A2%E8%A8%88%E7%AE%97%E3%81%AE%E6%95%B0%E7%90%86_7_2_3_%E3%81%B9%E3%81%8D%E4%B9%97%E6%B3%95%E3%80%80%E6%B8%9B%E6%AC%A1.ipynb\" target=\"_parent\"><img src=\"https://colab.research.google.com/assets/colab-badge.svg\" alt=\"Open In Colab\"/></a>"
      ]
    },
    {
      "cell_type": "code",
      "execution_count": 50,
      "metadata": {
        "colab": {
          "base_uri": "https://localhost:8080/"
        },
        "id": "zJ3WWraguyny",
        "outputId": "ce4025d7-e8f8-4f0b-abd6-ae61bc7fd548"
      },
      "outputs": [
        {
          "output_type": "execute_result",
          "data": {
            "text/plain": [
              "array([[1., 0., 0.],\n",
              "       [0., 2., 1.],\n",
              "       [0., 1., 1.]])"
            ]
          },
          "metadata": {},
          "execution_count": 50
        }
      ],
      "source": [
        "import numpy as np\n",
        "\n",
        "a_matrix = np.array([\n",
        "    [1., 0., 0.,],\n",
        "    [0., 2., 1.,],\n",
        "    [0., 1., 1.],\n",
        "])\n",
        "a_matrix"
      ]
    },
    {
      "cell_type": "code",
      "source": [
        "np.linalg.eig(a_matrix)"
      ],
      "metadata": {
        "colab": {
          "base_uri": "https://localhost:8080/"
        },
        "id": "4Fv5YCmuvD85",
        "outputId": "4fe4b4f8-a553-4d17-d22c-06f23b62c5c8"
      },
      "execution_count": 51,
      "outputs": [
        {
          "output_type": "execute_result",
          "data": {
            "text/plain": [
              "(array([0.38196601, 2.61803399, 1.        ]),\n",
              " array([[ 0.        ,  0.        ,  1.        ],\n",
              "        [ 0.52573111, -0.85065081,  0.        ],\n",
              "        [-0.85065081, -0.52573111,  0.        ]]))"
            ]
          },
          "metadata": {},
          "execution_count": 51
        }
      ]
    },
    {
      "cell_type": "code",
      "source": [
        "def power_method(a, max_iterations=100):\n",
        "  eigen_vector = np.ones((a.shape[1],))/np.sqrt(a.shape[1]) \n",
        "  for i in range(max_iterations):\n",
        "    y = a @ eigen_vector\n",
        "    eigen_value = np.linalg.norm(y)\n",
        "    eigen_vector = y/eigen_value\n",
        "    print(f\"iter:{i} eigen_value:{eigen_value} eigen_vector:{eigen_vector}\")\n",
        "  return eigen_value, eigen_vector\n",
        "\n",
        "def power_method_n(a, n_eigen_values=1, max_iterations=100):\n",
        "  n = a.shape[0]\n",
        "  b = a.copy()\n",
        "  eigen_values = []\n",
        "  eigen_vectors = []\n",
        "  for i in range(n_eigen_values):\n",
        "    print(\"new b\", b)\n",
        "    eigen_value, eigen_vector = power_method(b, max_iterations=max_iterations)\n",
        "    eigen_values.append(eigen_value)\n",
        "    eigen_vectors.append(eigen_vector)\n",
        "    b = b - eigen_value * (eigen_vector.reshape(n, 1) @ eigen_vector.reshape(1, n))\n",
        "  return eigen_values, eigen_vectors\n",
        "\n",
        "power_method_n(a_matrix, n_eigen_values=2)"
      ],
      "metadata": {
        "colab": {
          "base_uri": "https://localhost:8080/"
        },
        "id": "MsCjLUG1vTCf",
        "outputId": "8658c51c-7c54-4159-bf81-093504cd358e"
      },
      "execution_count": 88,
      "outputs": [
        {
          "output_type": "stream",
          "name": "stdout",
          "text": [
            "new b [[1. 0. 0.]\n",
            " [0. 2. 1.]\n",
            " [0. 1. 1.]]\n",
            "iter:0 eigen_value:2.1602468994692874 eigen_vector:[0.26726124 0.80178373 0.53452248]\n",
            "iter:1 eigen_value:2.5354627641855494 eigen_vector:[0.10540926 0.84327404 0.52704628]\n",
            "iter:2 eigen_value:2.6055496327817074 eigen_vector:[0.04045567 0.84956906 0.52592371]\n",
            "iter:3 eigen_value:2.616202818006034 eigen_vector:[0.01546351 0.85049287 0.52575923]\n",
            "iter:4 eigen_value:2.617766616112355 eigen_vector:[0.00590714 0.85062776 0.52573521]\n",
            "iter:5 eigen_value:2.6179949751669316 eigen_vector:[0.00225636 0.85064745 0.52573171]\n",
            "iter:6 eigen_value:2.6180282966503086 eigen_vector:[0.00086185 0.85065032 0.5257312 ]\n",
            "iter:7 eigen_value:2.6180331582817447 eigen_vector:[3.29199202e-04 8.50650737e-01 5.25731125e-01]\n",
            "iter:8 eigen_value:2.618033867586182 eigen_vector:[1.25742912e-04 8.50650798e-01 5.25731114e-01]\n",
            "iter:9 eigen_value:2.6180339710723466 eigen_vector:[4.80295188e-05 8.50650807e-01 5.25731112e-01]\n",
            "iter:10 eigen_value:2.6180339861707753 eigen_vector:[1.83456437e-05 8.50650808e-01 5.25731112e-01]\n",
            "iter:11 eigen_value:2.6180339883736066 eigen_vector:[7.00741236e-06 8.50650808e-01 5.25731112e-01]\n",
            "iter:12 eigen_value:2.6180339886949953 eigen_vector:[2.67659335e-06 8.50650808e-01 5.25731112e-01]\n",
            "iter:13 eigen_value:2.618033988741885 eigen_vector:[1.02236768e-06 8.50650808e-01 5.25731112e-01]\n",
            "iter:14 eigen_value:2.6180339887487265 eigen_vector:[3.90509707e-07 8.50650808e-01 5.25731112e-01]\n",
            "iter:15 eigen_value:2.6180339887497244 eigen_vector:[1.49161435e-07 8.50650808e-01 5.25731112e-01]\n",
            "iter:16 eigen_value:2.6180339887498705 eigen_vector:[5.69745983e-08 8.50650808e-01 5.25731112e-01]\n",
            "iter:17 eigen_value:2.618033988749891 eigen_vector:[2.17623601e-08 8.50650808e-01 5.25731112e-01]\n",
            "iter:18 eigen_value:2.618033988749894 eigen_vector:[8.31248187e-09 8.50650808e-01 5.25731112e-01]\n",
            "iter:19 eigen_value:2.6180339887498953 eigen_vector:[3.17508554e-09 8.50650808e-01 5.25731112e-01]\n",
            "iter:20 eigen_value:2.6180339887498945 eigen_vector:[1.21277476e-09 8.50650808e-01 5.25731112e-01]\n",
            "iter:21 eigen_value:2.618033988749895 eigen_vector:[4.63238738e-10 8.50650808e-01 5.25731112e-01]\n",
            "iter:22 eigen_value:2.618033988749895 eigen_vector:[1.76941453e-10 8.50650808e-01 5.25731112e-01]\n",
            "iter:23 eigen_value:2.618033988749895 eigen_vector:[6.75856210e-11 8.50650808e-01 5.25731112e-01]\n",
            "iter:24 eigen_value:2.618033988749895 eigen_vector:[2.58154101e-11 8.50650808e-01 5.25731112e-01]\n",
            "iter:25 eigen_value:2.618033988749895 eigen_vector:[9.86060922e-12 8.50650808e-01 5.25731112e-01]\n",
            "iter:26 eigen_value:2.618033988749895 eigen_vector:[3.76641757e-12 8.50650808e-01 5.25731112e-01]\n",
            "iter:27 eigen_value:2.618033988749895 eigen_vector:[1.43864350e-12 8.50650808e-01 5.25731112e-01]\n",
            "iter:28 eigen_value:2.618033988749895 eigen_vector:[5.49512918e-13 8.50650808e-01 5.25731112e-01]\n",
            "iter:29 eigen_value:2.618033988749895 eigen_vector:[2.09895257e-13 8.50650808e-01 5.25731112e-01]\n",
            "iter:30 eigen_value:2.618033988749895 eigen_vector:[8.01728542e-14 8.50650808e-01 5.25731112e-01]\n",
            "iter:31 eigen_value:2.618033988749895 eigen_vector:[3.06233053e-14 8.50650808e-01 5.25731112e-01]\n",
            "iter:32 eigen_value:2.618033988749895 eigen_vector:[1.16970618e-14 8.50650808e-01 5.25731112e-01]\n",
            "iter:33 eigen_value:2.618033988749895 eigen_vector:[4.46788004e-15 8.50650808e-01 5.25731112e-01]\n",
            "iter:34 eigen_value:2.618033988749895 eigen_vector:[1.70657832e-15 8.50650808e-01 5.25731112e-01]\n",
            "iter:35 eigen_value:2.618033988749895 eigen_vector:[6.51854912e-16 8.50650808e-01 5.25731112e-01]\n",
            "iter:36 eigen_value:2.618033988749895 eigen_vector:[2.48986421e-16 8.50650808e-01 5.25731112e-01]\n",
            "iter:37 eigen_value:2.618033988749895 eigen_vector:[9.51043500e-17 8.50650808e-01 5.25731112e-01]\n",
            "iter:38 eigen_value:2.618033988749895 eigen_vector:[3.63266292e-17 8.50650808e-01 5.25731112e-01]\n",
            "iter:39 eigen_value:2.618033988749895 eigen_vector:[1.38755377e-17 8.50650808e-01 5.25731112e-01]\n",
            "iter:40 eigen_value:2.618033988749895 eigen_vector:[5.29998378e-18 8.50650808e-01 5.25731112e-01]\n",
            "iter:41 eigen_value:2.618033988749895 eigen_vector:[2.02441366e-18 8.50650808e-01 5.25731112e-01]\n",
            "iter:42 eigen_value:2.618033988749895 eigen_vector:[7.73257212e-19 8.50650808e-01 5.25731112e-01]\n",
            "iter:43 eigen_value:2.618033988749895 eigen_vector:[2.95357973e-19 8.50650808e-01 5.25731112e-01]\n",
            "iter:44 eigen_value:2.618033988749895 eigen_vector:[1.12816707e-19 8.50650808e-01 5.25731112e-01]\n",
            "iter:45 eigen_value:2.618033988749895 eigen_vector:[4.30921475e-20 8.50650808e-01 5.25731112e-01]\n",
            "iter:46 eigen_value:2.618033988749895 eigen_vector:[1.64597357e-20 8.50650808e-01 5.25731112e-01]\n",
            "iter:47 eigen_value:2.618033988749895 eigen_vector:[6.28705959e-21 8.50650808e-01 5.25731112e-01]\n",
            "iter:48 eigen_value:2.618033988749895 eigen_vector:[2.40144307e-21 8.50650808e-01 5.25731112e-01]\n",
            "iter:49 eigen_value:2.618033988749895 eigen_vector:[9.17269632e-22 8.50650808e-01 5.25731112e-01]\n",
            "iter:50 eigen_value:2.618033988749895 eigen_vector:[3.50365823e-22 8.50650808e-01 5.25731112e-01]\n",
            "iter:51 eigen_value:2.618033988749895 eigen_vector:[1.33827836e-22 8.50650808e-01 5.25731112e-01]\n",
            "iter:52 eigen_value:2.618033988749895 eigen_vector:[5.11176846e-23 8.50650808e-01 5.25731112e-01]\n",
            "iter:53 eigen_value:2.618033988749895 eigen_vector:[1.95252181e-23 8.50650808e-01 5.25731112e-01]\n",
            "iter:54 eigen_value:2.618033988749895 eigen_vector:[7.45796968e-24 8.50650808e-01 5.25731112e-01]\n",
            "iter:55 eigen_value:2.618033988749895 eigen_vector:[2.84869093e-24 8.50650808e-01 5.25731112e-01]\n",
            "iter:56 eigen_value:2.618033988749895 eigen_vector:[1.08810311e-24 8.50650808e-01 5.25731112e-01]\n",
            "iter:57 eigen_value:2.618033988749895 eigen_vector:[4.15618405e-25 8.50650808e-01 5.25731112e-01]\n",
            "iter:58 eigen_value:2.618033988749895 eigen_vector:[1.58752104e-25 8.50650808e-01 5.25731112e-01]\n",
            "iter:59 eigen_value:2.618033988749895 eigen_vector:[6.06379081e-26 8.50650808e-01 5.25731112e-01]\n",
            "iter:60 eigen_value:2.618033988749895 eigen_vector:[2.31616199e-26 8.50650808e-01 5.25731112e-01]\n",
            "iter:61 eigen_value:2.618033988749895 eigen_vector:[8.84695157e-27 8.50650808e-01 5.25731112e-01]\n",
            "iter:62 eigen_value:2.618033988749895 eigen_vector:[3.37923480e-27 8.50650808e-01 5.25731112e-01]\n",
            "iter:63 eigen_value:2.618033988749895 eigen_vector:[1.29075284e-27 8.50650808e-01 5.25731112e-01]\n",
            "iter:64 eigen_value:2.618033988749895 eigen_vector:[4.93023713e-28 8.50650808e-01 5.25731112e-01]\n",
            "iter:65 eigen_value:2.618033988749895 eigen_vector:[1.88318301e-28 8.50650808e-01 5.25731112e-01]\n",
            "iter:66 eigen_value:2.618033988749895 eigen_vector:[7.19311903e-29 8.50650808e-01 5.25731112e-01]\n",
            "iter:67 eigen_value:2.618033988749895 eigen_vector:[2.74752699e-29 8.50650808e-01 5.25731112e-01]\n",
            "iter:68 eigen_value:2.618033988749895 eigen_vector:[1.04946192e-29 8.50650808e-01 5.25731112e-01]\n",
            "iter:69 eigen_value:2.618033988749895 eigen_vector:[4.00858785e-30 8.50650808e-01 5.25731112e-01]\n",
            "iter:70 eigen_value:2.618033988749895 eigen_vector:[1.53114431e-30 8.50650808e-01 5.25731112e-01]\n",
            "iter:71 eigen_value:2.618033988749895 eigen_vector:[5.84845085e-31 8.50650808e-01 5.25731112e-01]\n",
            "iter:72 eigen_value:2.618033988749895 eigen_vector:[2.23390944e-31 8.50650808e-01 5.25731112e-01]\n",
            "iter:73 eigen_value:2.618033988749895 eigen_vector:[8.53277480e-32 8.50650808e-01 5.25731112e-01]\n",
            "iter:74 eigen_value:2.618033988749895 eigen_vector:[3.25922996e-32 8.50650808e-01 5.25731112e-01]\n",
            "iter:75 eigen_value:2.618033988749895 eigen_vector:[1.24491507e-32 8.50650808e-01 5.25731112e-01]\n",
            "iter:76 eigen_value:2.618033988749895 eigen_vector:[4.75515242e-33 8.50650808e-01 5.25731112e-01]\n",
            "iter:77 eigen_value:2.618033988749895 eigen_vector:[1.81630660e-33 8.50650808e-01 5.25731112e-01]\n",
            "iter:78 eigen_value:2.618033988749895 eigen_vector:[6.93767388e-34 8.50650808e-01 5.25731112e-01]\n",
            "iter:79 eigen_value:2.618033988749895 eigen_vector:[2.64995562e-34 8.50650808e-01 5.25731112e-01]\n",
            "iter:80 eigen_value:2.618033988749895 eigen_vector:[1.01219298e-34 8.50650808e-01 5.25731112e-01]\n",
            "iter:81 eigen_value:2.618033988749895 eigen_vector:[3.86623315e-35 8.50650808e-01 5.25731112e-01]\n",
            "iter:82 eigen_value:2.618033988749895 eigen_vector:[1.47676965e-35 8.50650808e-01 5.25731112e-01]\n",
            "iter:83 eigen_value:2.618033988749895 eigen_vector:[5.64075814e-36 8.50650808e-01 5.25731112e-01]\n",
            "iter:84 eigen_value:2.618033988749895 eigen_vector:[2.15457789e-36 8.50650808e-01 5.25731112e-01]\n",
            "iter:85 eigen_value:2.618033988749895 eigen_vector:[8.22975521e-37 8.50650808e-01 5.25731112e-01]\n",
            "iter:86 eigen_value:2.618033988749895 eigen_vector:[3.14348677e-37 8.50650808e-01 5.25731112e-01]\n",
            "iter:87 eigen_value:2.618033988749895 eigen_vector:[1.20070510e-37 8.50650808e-01 5.25731112e-01]\n",
            "iter:88 eigen_value:2.618033988749895 eigen_vector:[4.58628539e-38 8.50650808e-01 5.25731112e-01]\n",
            "iter:89 eigen_value:2.618033988749895 eigen_vector:[1.75180514e-38 8.50650808e-01 5.25731112e-01]\n",
            "iter:90 eigen_value:2.618033988749895 eigen_vector:[6.69130021e-39 8.50650808e-01 5.25731112e-01]\n",
            "iter:91 eigen_value:2.618033988749895 eigen_vector:[2.55584925e-39 8.50650808e-01 5.25731112e-01]\n",
            "iter:92 eigen_value:2.618033988749895 eigen_vector:[9.76247544e-40 8.50650808e-01 5.25731112e-01]\n",
            "iter:93 eigen_value:2.618033988749895 eigen_vector:[3.72893380e-40 8.50650808e-01 5.25731112e-01]\n",
            "iter:94 eigen_value:2.618033988749895 eigen_vector:[1.42432597e-40 8.50650808e-01 5.25731112e-01]\n",
            "iter:95 eigen_value:2.618033988749895 eigen_vector:[5.44044110e-41 8.50650808e-01 5.25731112e-01]\n",
            "iter:96 eigen_value:2.618033988749895 eigen_vector:[2.07806359e-41 8.50650808e-01 5.25731112e-01]\n",
            "iter:97 eigen_value:2.618033988749895 eigen_vector:[7.93749659e-42 8.50650808e-01 5.25731112e-01]\n",
            "iter:98 eigen_value:2.618033988749895 eigen_vector:[3.03185391e-42 8.50650808e-01 5.25731112e-01]\n",
            "iter:99 eigen_value:2.618033988749895 eigen_vector:[1.15806515e-42 8.50650808e-01 5.25731112e-01]\n",
            "new b [[ 1.00000000e+00 -2.57904898e-42 -1.59393993e-42]\n",
            " [-2.57904898e-42  1.05572809e-01 -1.70820393e-01]\n",
            " [-1.59393993e-42 -1.70820393e-01  2.76393202e-01]]\n",
            "iter:0 eigen_value:0.5817797020782036 eigen_vector:[ 0.99238641 -0.06475082  0.10476902]\n",
            "iter:1 eigen_value:0.993500851990166 eigen_vector:[ 0.99887827 -0.0248944   0.04027999]\n",
            "iter:2 eigen_value:0.9990420035827658 eigen_vector:[ 0.99983611 -0.00951793  0.01540034]\n",
            "iter:3 eigen_value:0.9998600193037888 eigen_vector:[ 0.99997608 -0.00363604  0.00588323]\n",
            "iter:4 eigen_value:0.9999795725940004 eigen_vector:[ 0.99999651 -0.00138887  0.00224724]\n",
            "iter:5 eigen_value:0.9999970195858658 eigen_vector:[ 9.99999491e-01 -5.30502962e-04  8.58371824e-04]\n",
            "iter:6 eigen_value:0.9999995651613995 eigen_vector:[ 9.99999926e-01 -2.02634189e-04  3.27869004e-04]\n",
            "iter:7 eigen_value:0.9999999365578598 eigen_vector:[ 9.99999989e-01 -7.73993776e-05  1.25234824e-04]\n",
            "iter:8 eigen_value:0.9999999907439157 eigen_vector:[ 9.99999998e-01 -2.95639318e-05  4.78354465e-05]\n",
            "iter:9 eigen_value:0.9999999986495555 eigen_vector:[ 1.00000000e+00 -1.12924171e-05  1.82715147e-05]\n",
            "iter:10 eigen_value:0.9999999998029727 eigen_vector:[ 1.00000000e+00 -4.31331953e-06  6.97909760e-06]\n",
            "iter:11 eigen_value:0.9999999999712542 eigen_vector:[ 1.00000000e+00 -1.64754146e-06  2.66577807e-06]\n",
            "iter:12 eigen_value:0.999999999995806 eigen_vector:[ 1.00000000e+00 -6.29304838e-07  1.01823662e-06]\n",
            "iter:13 eigen_value:0.999999999999388 eigen_vector:[ 1.00000000e+00 -2.40373059e-07  3.88931779e-07]\n",
            "iter:14 eigen_value:0.9999999999999107 eigen_vector:[ 1.00000000e+00 -9.18143386e-08  1.48558720e-07]\n",
            "iter:15 eigen_value:0.999999999999987 eigen_vector:[ 1.00000000e+00 -3.50699567e-08  5.67443819e-08]\n",
            "iter:16 eigen_value:0.9999999999999981 eigen_vector:[ 1.00000000e+00 -1.33955315e-08  2.16744252e-08]\n",
            "iter:17 eigen_value:0.9999999999999997 eigen_vector:[ 1.00000000e+00 -5.11663772e-09  8.27889374e-09]\n",
            "iter:18 eigen_value:1.0 eigen_vector:[ 1.00000000e+00 -1.95438170e-09  3.16225602e-09]\n",
            "iter:19 eigen_value:1.0 eigen_vector:[ 1.00000000e+00 -7.46507383e-10  1.20787432e-09]\n",
            "iter:20 eigen_value:1.0 eigen_vector:[ 1.00000000e+00 -2.85140447e-10  4.61366936e-10]\n",
            "iter:21 eigen_value:1.0 eigen_vector:[ 1.00000000e+00 -1.08913959e-10  1.76226488e-10]\n",
            "iter:22 eigen_value:1.0 eigen_vector:[ 1.00000000e+00 -4.16014306e-11  6.73125287e-11]\n",
            "iter:23 eigen_value:1.0 eigen_vector:[ 1.00000000e+00 -1.58903325e-11  2.57110981e-11]\n",
            "iter:24 eigen_value:1.0 eigen_vector:[ 1.00000000e+00 -6.06956693e-12  9.82076559e-12]\n",
            "iter:25 eigen_value:1.0 eigen_vector:[ 1.00000000e+00 -2.31836827e-12  3.75119866e-12]\n",
            "iter:26 eigen_value:1.0 eigen_vector:[ 1.00000000e+00 -8.85537881e-13  1.43283039e-12]\n",
            "iter:27 eigen_value:1.0 eigen_vector:[ 1.00000000e+00 -3.38245372e-13  5.47292509e-13]\n",
            "iter:28 eigen_value:1.0 eigen_vector:[ 1.00000000e+00 -1.29198236e-13  2.09047137e-13]\n",
            "iter:29 eigen_value:1.0 eigen_vector:[ 1.00000000e+00 -4.93493347e-14  7.98489009e-14]\n",
            "iter:30 eigen_value:1.0 eigen_vector:[ 1.00000000e+00 -1.88497685e-14  3.04995662e-14]\n",
            "iter:31 eigen_value:1.0 eigen_vector:[ 1.00000000e+00 -7.19997090e-15  1.16497976e-14]\n",
            "iter:32 eigen_value:1.0 eigen_vector:[ 1.00000000e+00 -2.75014417e-15  4.44982674e-15]\n",
            "iter:33 eigen_value:1.0 eigen_vector:[ 1.00000000e+00 -1.05046160e-15  1.69968257e-15]\n",
            "iter:34 eigen_value:1.0 eigen_vector:[ 1.00000000e+00 -4.01240626e-16  6.49220971e-16]\n",
            "iter:35 eigen_value:1.0 eigen_vector:[ 1.00000000e+00 -1.53260282e-16  2.47980345e-16]\n",
            "iter:36 eigen_value:1.0 eigen_vector:[ 1.00000000e+00 -5.85402185e-17  9.47200632e-17]\n",
            "iter:37 eigen_value:1.0 eigen_vector:[ 1.00000000e+00 -2.23603737e-17  3.61798447e-17]\n",
            "iter:38 eigen_value:1.0 eigen_vector:[ 1.00000000e+00 -8.54090277e-18  1.38194710e-17]\n",
            "iter:39 eigen_value:1.0 eigen_vector:[ 1.00000000e+00 -3.26233456e-18  5.27856821e-18]\n",
            "iter:40 eigen_value:1.0 eigen_vector:[ 1.00000000e+00 -1.24610092e-18  2.01623364e-18]\n",
            "iter:41 eigen_value:1.0 eigen_vector:[ 1.00000000e+00 -4.75968198e-19  7.70132722e-19]\n",
            "iter:42 eigen_value:1.0 eigen_vector:[ 1.00000000e+00 -1.81803674e-19  2.94164524e-19]\n",
            "iter:43 eigen_value:1.0 eigen_vector:[ 1.00000000e+00 -6.94428242e-20  1.12360850e-19]\n",
            "iter:44 eigen_value:1.0 eigen_vector:[ 1.00000000e+00 -2.65247986e-20  4.29180257e-20]\n",
            "iter:45 eigen_value:1.0 eigen_vector:[ 1.00000000e+00 -1.01315715e-20  1.63932271e-20]\n",
            "iter:46 eigen_value:1.0 eigen_vector:[ 1.00000000e+00 -3.86991596e-21  6.26165556e-21]\n",
            "iter:47 eigen_value:1.0 eigen_vector:[ 1.00000000e+00 -1.47817636e-21  2.39173960e-21]\n",
            "iter:48 eigen_value:1.0 eigen_vector:[ 1.00000000e+00 -5.64613129e-22  9.13563234e-22]\n",
            "iter:49 eigen_value:1.0 eigen_vector:[ 1.00000000e+00 -2.15663025e-22  3.48950104e-22]\n",
            "iter:50 eigen_value:1.0 eigen_vector:[ 1.00000000e+00 -8.23759454e-23  1.33287079e-22]\n",
            "iter:51 eigen_value:1.0 eigen_vector:[ 1.00000000e+00 -3.14648113e-23  5.09111341e-23]\n",
            "iter:52 eigen_value:1.0 eigen_vector:[ 1.00000000e+00 -1.20184885e-23  1.94463228e-23]\n",
            "iter:53 eigen_value:1.0 eigen_vector:[ 1.00000000e+00 -4.59065410e-24  7.42783436e-24]\n",
            "iter:54 eigen_value:1.0 eigen_vector:[ 1.00000000e+00 -1.75347384e-24  2.83718026e-24]\n",
            "iter:55 eigen_value:1.0 eigen_vector:[ 1.00000000e+00 -6.69767407e-25  1.08370643e-24]\n",
            "iter:56 eigen_value:1.0 eigen_vector:[ 1.00000000e+00 -2.55828385e-25  4.13939022e-25]\n",
            "iter:57 eigen_value:1.0 eigen_vector:[ 1.00000000e+00 -9.77177477e-26  1.58110637e-25]\n",
            "iter:58 eigen_value:1.0 eigen_vector:[ 1.00000000e+00 -3.73248583e-26  6.03928894e-26]\n",
            "iter:59 eigen_value:1.0 eigen_vector:[ 1.00000000e+00 -1.42568273e-26  2.30680311e-26]\n",
            "iter:60 eigen_value:1.0 eigen_vector:[ 1.00000000e+00 -5.44562344e-27  8.81120381e-27]\n",
            "iter:61 eigen_value:1.0 eigen_vector:[ 1.00000000e+00 -2.08004306e-27  3.36558037e-27]\n",
            "iter:62 eigen_value:1.0 eigen_vector:[ 1.00000000e+00 -7.94505752e-28  1.28553731e-27]\n",
            "iter:63 eigen_value:1.0 eigen_vector:[ 1.00000000e+00 -3.03474193e-28  4.91031559e-28]\n",
            "iter:64 eigen_value:1.0 eigen_vector:[ 1.00000000e+00 -1.15916827e-28  1.87557366e-28]\n",
            "iter:65 eigen_value:1.0 eigen_vector:[ 1.00000000e+00 -4.42762881e-29  7.16405390e-29]\n",
            "iter:66 eigen_value:1.0 eigen_vector:[ 1.00000000e+00 -1.69120371e-29  2.73642509e-29]\n",
            "iter:67 eigen_value:1.0 eigen_vector:[ 1.00000000e+00 -6.45982337e-30  1.04522138e-29]\n",
            "iter:68 eigen_value:1.0 eigen_vector:[ 1.00000000e+00 -2.46743297e-30  3.99239040e-30]\n",
            "iter:69 eigen_value:1.0 eigen_vector:[ 1.00000000e+00 -9.42475528e-31  1.52495744e-30]\n",
            "iter:70 eigen_value:1.0 eigen_vector:[ 1.00000000e+00 -3.59993618e-31  5.82481910e-31]\n",
            "iter:71 eigen_value:1.0 eigen_vector:[ 1.00000000e+00 -1.37505326e-31  2.22488292e-31]\n",
            "iter:72 eigen_value:1.0 eigen_vector:[ 1.00000000e+00 -5.25223611e-32  8.49829654e-32]\n",
            "iter:73 eigen_value:1.0 eigen_vector:[ 1.00000000e+00 -2.00617568e-32  3.24606043e-32]\n",
            "iter:74 eigen_value:1.0 eigen_vector:[ 1.00000000e+00 -7.66290921e-33  1.23988475e-32]\n",
            "iter:75 eigen_value:1.0 eigen_vector:[ 1.00000000e+00 -2.92697087e-33  4.73593834e-33]\n",
            "iter:76 eigen_value:1.0 eigen_vector:[ 1.00000000e+00 -1.11800339e-33  1.80896748e-33]\n",
            "iter:77 eigen_value:1.0 eigen_vector:[ 1.00000000e+00 -4.27039296e-34  6.90964090e-34]\n",
            "iter:78 eigen_value:1.0 eigen_vector:[ 1.00000000e+00 -1.63114498e-34  2.63924797e-34]\n",
            "iter:79 eigen_value:1.0 eigen_vector:[ 1.00000000e+00 -6.23041959e-35  1.00810301e-34]\n",
            "iter:80 eigen_value:1.0 eigen_vector:[ 1.00000000e+00 -2.37980868e-35  3.85061075e-35]\n",
            "iter:81 eigen_value:1.0 eigen_vector:[ 1.00000000e+00 -9.09006188e-36  1.47080233e-35]\n",
            "iter:82 eigen_value:1.0 eigen_vector:[ 1.00000000e+00 -3.47209627e-36  5.61796401e-36]\n",
            "iter:83 eigen_value:1.0 eigen_vector:[ 1.00000000e+00 -1.32622436e-36  2.14587032e-36]\n",
            "iter:84 eigen_value:1.0 eigen_vector:[ 1.00000000e+00 -5.06574222e-37  8.19648542e-37]\n",
            "iter:85 eigen_value:1.0 eigen_vector:[ 1.00000000e+00 -1.93495729e-37  3.13076899e-37]\n",
            "iter:86 eigen_value:1.0 eigen_vector:[ 1.00000000e+00 -7.39103857e-38  1.19583749e-37]\n",
            "iter:87 eigen_value:1.0 eigen_vector:[ 1.00000000e+00 -2.82328491e-38  4.56759426e-38]\n",
            "iter:88 eigen_value:1.0 eigen_vector:[ 1.00000000e+00 -1.07855827e-38  1.74456725e-38]\n",
            "iter:89 eigen_value:1.0 eigen_vector:[ 1.00000000e+00 -4.12131995e-39  6.66266883e-39]\n",
            "iter:90 eigen_value:1.0 eigen_vector:[ 1.00000000e+00 -1.57579808e-39  2.54392793e-39]\n",
            "iter:91 eigen_value:1.0 eigen_vector:[ 1.00000000e+00 -6.03495248e-40  9.70708894e-40]\n",
            "iter:92 eigen_value:1.0 eigen_vector:[ 1.00000000e+00 -2.32108613e-40  3.69792695e-40]\n",
            "iter:93 eigen_value:1.0 eigen_vector:[ 1.00000000e+00 -9.02515408e-41  1.40263132e-40]\n",
            "iter:94 eigen_value:1.0 eigen_vector:[ 1.00000000e+00 -3.60669610e-41  5.25906399e-41]\n",
            "iter:95 eigen_value:1.0 eigen_vector:[ 1.00000000e+00 -1.53702932e-41  1.91027279e-41]\n",
            "iter:96 eigen_value:1.0 eigen_vector:[ 1.00000000e+00 -7.46486950e-42  6.31148373e-42]\n",
            "iter:97 eigen_value:1.0 eigen_vector:[ 1.00000000e+00 -4.44526636e-42  1.42566321e-42]\n",
            "iter:98 eigen_value:1.0 eigen_vector:[ 1.00000000e+00 -3.29188059e-42 -4.40554161e-43]\n",
            "iter:99 eigen_value:1.0 eigen_vector:[ 1.00000000e+00 -2.85132643e-42 -1.15338577e-42]\n"
          ]
        },
        {
          "output_type": "execute_result",
          "data": {
            "text/plain": [
              "([2.618033988749895, 1.0],\n",
              " [array([1.15806515e-42, 8.50650808e-01, 5.25731112e-01]),\n",
              "  array([ 1.00000000e+00, -2.85132643e-42, -1.15338577e-42])])"
            ]
          },
          "metadata": {},
          "execution_count": 88
        }
      ]
    }
  ]
}